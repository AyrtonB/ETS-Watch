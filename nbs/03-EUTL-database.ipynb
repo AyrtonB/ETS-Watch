{
 "cells": [
  {
   "cell_type": "markdown",
   "metadata": {},
   "source": [
    "# EU Transaction Log Database\n",
    "\n",
    "<br>\n",
    "\n",
    "### Imports"
   ]
  },
  {
   "cell_type": "code",
   "execution_count": 571,
   "metadata": {},
   "outputs": [],
   "source": [
    "import pandas as pd\n",
    "import numpy as np\n",
    "import xarray as xr\n",
    "\n",
    "import re\n",
    "import os\n",
    "import copy\n",
    "import requests\n",
    "from bs4 import BeautifulSoup as bs\n",
    "\n",
    "import matplotlib.pyplot as plt\n",
    "\n",
    "from ipypb import track\n",
    "import FEAutils as hlp"
   ]
  },
  {
   "cell_type": "code",
   "execution_count": 2,
   "metadata": {},
   "outputs": [],
   "source": [
    "from IPython.display import JSON"
   ]
  },
  {
   "cell_type": "markdown",
   "metadata": {},
   "source": [
    "<br>\n",
    "\n",
    "### Identifying Operator Holding Accounts\n",
    "\n",
    "We'll start by calling the first page of the unfiltered search"
   ]
  },
  {
   "cell_type": "code",
   "execution_count": 150,
   "metadata": {},
   "outputs": [],
   "source": [
    "#exports\n",
    "get_accounts_raw_search = lambda page_num=0: requests.get(f'https://ec.europa.eu/clima/ets/oha.do?form=oha&languageCode=en&accountHolder=&installationIdentifier=&installationName=&permitIdentifier=&mainActivityType=-1&searchType=oha&currentSortSettings=&backList=%3CBack&resultList.currentPageNumber={page_num}')"
   ]
  },
  {
   "cell_type": "code",
   "execution_count": 151,
   "metadata": {},
   "outputs": [
    {
     "data": {
      "text/plain": [
       "<Response [200]>"
      ]
     },
     "execution_count": 151,
     "metadata": {},
     "output_type": "execute_result"
    }
   ],
   "source": [
    "r = get_accounts_raw_search()\n",
    "\n",
    "r"
   ]
  },
  {
   "cell_type": "code",
   "execution_count": null,
   "metadata": {},
   "outputs": [],
   "source": []
  },
  {
   "cell_type": "code",
   "execution_count": 152,
   "metadata": {},
   "outputs": [],
   "source": [
    "#exports\n",
    "def extract_search_df(r):\n",
    "    soup = bs(r.text)\n",
    "    results_table = soup.find('table', attrs={'id': 'tblAccountSearchResult'})\n",
    "\n",
    "    df_search = (pd\n",
    "                 .read_html(str(results_table))\n",
    "                 [0]\n",
    "                 .iloc[1:, :-2]\n",
    "                 .reset_index(drop=True)\n",
    "                 .T\n",
    "                 .set_index(0)\n",
    "                 .T\n",
    "                 .reset_index(drop=True)\n",
    "                 .rename(columns={\n",
    "                     'National Administrator': 'country',\n",
    "                     'Account Type': 'account_type',\n",
    "                     'Account Holder Name': 'account_holder_name',\n",
    "                     'Installation/Aircraft ID': 'installation_or_aircraft_id',\n",
    "                     'Installation Name/Aircraft Operator Code*': 'operator_code',\n",
    "                     'Company Registration No': 'company_registration_number',\n",
    "                     'Permit/Plan ID': 'permit_or_plan_id',\n",
    "                     'Permit/Plan Date': 'permit_or_plan_date',\n",
    "                     'Main Activity Type': 'main_activity_type',\n",
    "                     'Latest Compliance Code': 'latest_compliance_code'\n",
    "                 })\n",
    "                )\n",
    "    \n",
    "    df_search['account_id'] = [a['href'].split('accountID=')[-1].split('&')[0] for a in results_table.findAll('a', text=re.compile('Details - All Phases'))]\n",
    "\n",
    "    return df_search"
   ]
  },
  {
   "cell_type": "code",
   "execution_count": 153,
   "metadata": {},
   "outputs": [
    {
     "data": {
      "text/html": [
       "<div>\n",
       "<style scoped>\n",
       "    .dataframe tbody tr th:only-of-type {\n",
       "        vertical-align: middle;\n",
       "    }\n",
       "\n",
       "    .dataframe tbody tr th {\n",
       "        vertical-align: top;\n",
       "    }\n",
       "\n",
       "    .dataframe thead th {\n",
       "        text-align: right;\n",
       "    }\n",
       "</style>\n",
       "<table border=\"1\" class=\"dataframe\">\n",
       "  <thead>\n",
       "    <tr style=\"text-align: right;\">\n",
       "      <th></th>\n",
       "      <th>country</th>\n",
       "      <th>account_type</th>\n",
       "      <th>account_holder_name</th>\n",
       "      <th>installation_or_aircraft_id</th>\n",
       "      <th>operator_code</th>\n",
       "      <th>company_registration_number</th>\n",
       "      <th>permit_or_plan_id</th>\n",
       "      <th>permit_or_plan_date</th>\n",
       "      <th>main_activity_type</th>\n",
       "      <th>latest_compliance_code</th>\n",
       "      <th>account_id</th>\n",
       "    </tr>\n",
       "  </thead>\n",
       "  <tbody>\n",
       "    <tr>\n",
       "      <th>0</th>\n",
       "      <td>Austria</td>\n",
       "      <td>Aircraft Operator Account</td>\n",
       "      <td>Jetalliance Flugbetriebs GmbH</td>\n",
       "      <td>200103</td>\n",
       "      <td>27702</td>\n",
       "      <td>FN 203001g</td>\n",
       "      <td>BMLFUW-UW.1.3.2/0354-V/4/2009</td>\n",
       "      <td>2010-01-01</td>\n",
       "      <td>Aircraft operator activities</td>\n",
       "      <td>C</td>\n",
       "      <td>90574</td>\n",
       "    </tr>\n",
       "    <tr>\n",
       "      <th>1</th>\n",
       "      <td>Austria</td>\n",
       "      <td>Aircraft Operator Account</td>\n",
       "      <td>Glock GmbH</td>\n",
       "      <td>200108</td>\n",
       "      <td>194</td>\n",
       "      <td>FN64142b</td>\n",
       "      <td>BMFLUW-UW.1.3.2/0084-V/4/2010</td>\n",
       "      <td>2010-01-01</td>\n",
       "      <td>Aircraft operator activities</td>\n",
       "      <td>A</td>\n",
       "      <td>90727</td>\n",
       "    </tr>\n",
       "    <tr>\n",
       "      <th>2</th>\n",
       "      <td>Austria</td>\n",
       "      <td>Aircraft Operator Account</td>\n",
       "      <td>Glock Services GmbH</td>\n",
       "      <td>200109</td>\n",
       "      <td>36057</td>\n",
       "      <td>FN329154a</td>\n",
       "      <td>UW.1.3.2/0085-V/4/2011</td>\n",
       "      <td>2010-01-01</td>\n",
       "      <td>Aircraft operator activities</td>\n",
       "      <td>A</td>\n",
       "      <td>90728</td>\n",
       "    </tr>\n",
       "  </tbody>\n",
       "</table>\n",
       "</div>"
      ],
      "text/plain": [
       "0  country               account_type            account_holder_name  \\\n",
       "0  Austria  Aircraft Operator Account  Jetalliance Flugbetriebs GmbH   \n",
       "1  Austria  Aircraft Operator Account                     Glock GmbH   \n",
       "2  Austria  Aircraft Operator Account            Glock Services GmbH   \n",
       "\n",
       "0 installation_or_aircraft_id operator_code company_registration_number  \\\n",
       "0                      200103         27702                  FN 203001g   \n",
       "1                      200108           194                    FN64142b   \n",
       "2                      200109         36057                   FN329154a   \n",
       "\n",
       "0              permit_or_plan_id permit_or_plan_date  \\\n",
       "0  BMLFUW-UW.1.3.2/0354-V/4/2009          2010-01-01   \n",
       "1  BMFLUW-UW.1.3.2/0084-V/4/2010          2010-01-01   \n",
       "2         UW.1.3.2/0085-V/4/2011          2010-01-01   \n",
       "\n",
       "0            main_activity_type latest_compliance_code account_id  \n",
       "0  Aircraft operator activities                      C      90574  \n",
       "1  Aircraft operator activities                      A      90727  \n",
       "2  Aircraft operator activities                      A      90728  "
      ]
     },
     "execution_count": 153,
     "metadata": {},
     "output_type": "execute_result"
    }
   ],
   "source": [
    "df_search = extract_search_df(r)\n",
    "\n",
    "df_search.head(3)"
   ]
  },
  {
   "cell_type": "code",
   "execution_count": null,
   "metadata": {},
   "outputs": [],
   "source": []
  },
  {
   "cell_type": "code",
   "execution_count": 154,
   "metadata": {},
   "outputs": [],
   "source": [
    "#exports\n",
    "def get_num_operating_accounts_pages():\n",
    "    r = get_accounts_raw_search()\n",
    "    soup = bs(r.text)\n",
    "    \n",
    "    soup_pn = soup.find('input', attrs={'name': 'resultList.lastPageNumber'})\n",
    "    num_pages = int(soup_pn['value'])\n",
    "    \n",
    "    return num_pages"
   ]
  },
  {
   "cell_type": "code",
   "execution_count": 453,
   "metadata": {},
   "outputs": [
    {
     "data": {
      "text/plain": [
       "883"
      ]
     },
     "execution_count": 453,
     "metadata": {},
     "output_type": "execute_result"
    }
   ],
   "source": [
    "num_pages = get_num_operating_accounts_pages()\n",
    "\n",
    "num_pages"
   ]
  },
  {
   "cell_type": "code",
   "execution_count": null,
   "metadata": {},
   "outputs": [],
   "source": []
  },
  {
   "cell_type": "code",
   "execution_count": null,
   "metadata": {},
   "outputs": [],
   "source": [
    "#exports\n",
    "def get_full_search_df(num_pages):\n",
    "    df_search = pd.DataFrame()\n",
    "\n",
    "    for page_num in track(range(num_pages)):\n",
    "        r = get_accounts_raw_search(page_num=page_num)\n",
    "        df_search_page = extract_search_df(r)\n",
    "        df_search = df_search.append(df_search_page)\n",
    "\n",
    "    df_search = (df_search\n",
    "                 .reset_index(drop=True)\n",
    "                 .drop_duplicates()\n",
    "                )\n",
    "    \n",
    "    return df_search\n",
    "\n",
    "def get_search_df(data_dir='data', num_pages=None, redownload=False):\n",
    "    if num_pages is None:\n",
    "        num_pages = get_num_operating_accounts_pages()\n",
    "        \n",
    "    if not os.path.exists(data_dir):\n",
    "        os.makedirs(data_dir)\n",
    "    \n",
    "    if redownload == True:\n",
    "        df_search = get_full_search_df(num_pages)\n",
    "        df_search.to_csv(f'{data_dir}/account_search.csv', index=False)\n",
    "    else:\n",
    "        df_search = pd.read_csv(f'{data_dir}/account_search.csv')"
   ]
  },
  {
   "cell_type": "code",
   "execution_count": 456,
   "metadata": {},
   "outputs": [
    {
     "data": {
      "text/html": [
       "<div><span class=\"Text-label\" style=\"display:inline-block; overflow:hidden; white-space:nowrap; text-overflow:ellipsis; min-width:0; max-width:15ex; vertical-align:middle; text-align:right\"></span>\n",
       "<progress style=\"width:60ex\" max=\"883\" value=\"883\" class=\"Progress-main\"/></progress>\n",
       "<span class=\"Progress-label\"><strong>100%</strong></span>\n",
       "<span class=\"Iteration-label\">880/883</span>\n",
       "<span class=\"Time-label\">[09:19<00:01, 0.63s/it]</span></div>"
      ],
      "text/plain": [
       "\u001b[A\u001b[2K\r",
       " [████████████████████████████████████████████████████████████] 883/883 [09:19<00:01, 0.63s/it]"
      ]
     },
     "metadata": {},
     "output_type": "display_data"
    },
    {
     "data": {
      "text/plain": [
       "(17620, 11)"
      ]
     },
     "execution_count": 456,
     "metadata": {},
     "output_type": "execute_result"
    }
   ],
   "source": [
    "redownload_search_df = False\n",
    "\n",
    "df_search = get_search_df(data_dir='../data', redownload=redownload_search_df)\n",
    "\n",
    "df_search.shape"
   ]
  },
  {
   "cell_type": "markdown",
   "metadata": {},
   "source": [
    "<br>\n",
    "\n",
    "We would intuitively expect to see only unique values in the `permit_or_plan_id` column but we can see for values such as `EEW012` that this is not the case. In this instance it appears as though the account holder name has changed, meaning that the emissions data has been split despite it being owned by the same overarching company - these are problems we will have to address later."
   ]
  },
  {
   "cell_type": "code",
   "execution_count": 174,
   "metadata": {},
   "outputs": [
    {
     "data": {
      "text/html": [
       "<div>\n",
       "<style scoped>\n",
       "    .dataframe tbody tr th:only-of-type {\n",
       "        vertical-align: middle;\n",
       "    }\n",
       "\n",
       "    .dataframe tbody tr th {\n",
       "        vertical-align: top;\n",
       "    }\n",
       "\n",
       "    .dataframe thead th {\n",
       "        text-align: right;\n",
       "    }\n",
       "</style>\n",
       "<table border=\"1\" class=\"dataframe\">\n",
       "  <thead>\n",
       "    <tr style=\"text-align: right;\">\n",
       "      <th></th>\n",
       "      <th>country</th>\n",
       "      <th>account_type</th>\n",
       "      <th>account_holder_name</th>\n",
       "      <th>installation_or_aircraft_id</th>\n",
       "      <th>operator_code</th>\n",
       "      <th>company_registration_number</th>\n",
       "      <th>permit_or_plan_id</th>\n",
       "      <th>permit_or_plan_date</th>\n",
       "      <th>main_activity_type</th>\n",
       "      <th>latest_compliance_code</th>\n",
       "      <th>account_id</th>\n",
       "    </tr>\n",
       "  </thead>\n",
       "  <tbody>\n",
       "    <tr>\n",
       "      <th>137</th>\n",
       "      <td>Austria</td>\n",
       "      <td>Operator Holding Account</td>\n",
       "      <td>VERBUND Thermal Power GmbH &amp; Co KG</td>\n",
       "      <td>97</td>\n",
       "      <td>Verbund KW Voitsberg</td>\n",
       "      <td>FN 220426 g</td>\n",
       "      <td>EEW012</td>\n",
       "      <td>2004-01-02</td>\n",
       "      <td>Combustion installations with a rated thermal ...</td>\n",
       "      <td>C</td>\n",
       "      <td>93794</td>\n",
       "    </tr>\n",
       "    <tr>\n",
       "      <th>271</th>\n",
       "      <td>Austria</td>\n",
       "      <td>Operator Holding Account</td>\n",
       "      <td>A-Tec Beteiligungs GmbH</td>\n",
       "      <td>233</td>\n",
       "      <td>DKW Voitsberg</td>\n",
       "      <td>FN 294601 m</td>\n",
       "      <td>EEW012</td>\n",
       "      <td>2005-06-09</td>\n",
       "      <td>Combustion installations with a rated thermal ...</td>\n",
       "      <td>A</td>\n",
       "      <td>93944</td>\n",
       "    </tr>\n",
       "  </tbody>\n",
       "</table>\n",
       "</div>"
      ],
      "text/plain": [
       "0    country              account_type                 account_holder_name  \\\n",
       "137  Austria  Operator Holding Account  VERBUND Thermal Power GmbH & Co KG   \n",
       "271  Austria  Operator Holding Account             A-Tec Beteiligungs GmbH   \n",
       "\n",
       "0   installation_or_aircraft_id         operator_code  \\\n",
       "137                          97  Verbund KW Voitsberg   \n",
       "271                         233         DKW Voitsberg   \n",
       "\n",
       "0   company_registration_number permit_or_plan_id permit_or_plan_date  \\\n",
       "137                 FN 220426 g            EEW012          2004-01-02   \n",
       "271                 FN 294601 m            EEW012          2005-06-09   \n",
       "\n",
       "0                                   main_activity_type latest_compliance_code  \\\n",
       "137  Combustion installations with a rated thermal ...                      C   \n",
       "271  Combustion installations with a rated thermal ...                      A   \n",
       "\n",
       "0   account_id  \n",
       "137      93794  \n",
       "271      93944  "
      ]
     },
     "execution_count": 174,
     "metadata": {},
     "output_type": "execute_result"
    }
   ],
   "source": [
    "df_search.loc[df_search['permit_or_plan_id']=='EEW012']"
   ]
  },
  {
   "cell_type": "code",
   "execution_count": null,
   "metadata": {},
   "outputs": [],
   "source": []
  },
  {
   "cell_type": "code",
   "execution_count": 458,
   "metadata": {},
   "outputs": [
    {
     "data": {
      "text/plain": [
       "Operator Holding Account     16040\n",
       "Aircraft Operator Account     1580\n",
       "Name: account_type, dtype: int64"
      ]
     },
     "execution_count": 458,
     "metadata": {},
     "output_type": "execute_result"
    }
   ],
   "source": [
    "df_search['account_type'].value_counts()"
   ]
  },
  {
   "cell_type": "markdown",
   "metadata": {},
   "source": [
    "<br>\n",
    "\n",
    "### Retrieving Installation/Operator Data\n",
    "\n",
    "In this section we'll start looking at individual operator accounts and extracting some more detailed information "
   ]
  },
  {
   "cell_type": "code",
   "execution_count": 55,
   "metadata": {},
   "outputs": [],
   "source": [
    "#exports\n",
    "account_id_to_url = lambda account_id: f'https://ec.europa.eu/clima/ets/ohaDetails.do?accountID={account_id}&action=all'"
   ]
  },
  {
   "cell_type": "code",
   "execution_count": 427,
   "metadata": {},
   "outputs": [
    {
     "data": {
      "text/plain": [
       "'https://ec.europa.eu/clima/ets/ohaDetails.do?accountID=90574&action=all'"
      ]
     },
     "execution_count": 427,
     "metadata": {},
     "output_type": "execute_result"
    }
   ],
   "source": [
    "account_id = df_search.loc[df_search['account_type']=='Aircraft Operator Account', 'account_id'].iloc[0]\n",
    "account_url = account_id_to_url(account_id)\n",
    "\n",
    "account_url"
   ]
  },
  {
   "cell_type": "markdown",
   "metadata": {},
   "source": [
    "<br>\n",
    "\n",
    "We'll create a function that extracts the relevant tables as Beautiful Soup objects"
   ]
  },
  {
   "cell_type": "code",
   "execution_count": 496,
   "metadata": {},
   "outputs": [],
   "source": [
    "#exports\n",
    "def retry_request(root_url, params={}, n_retries=5, **kwargs):\n",
    "    for i in range(n_retries):\n",
    "        try:\n",
    "            r = requests.get(root_url, params=params, **kwargs)\n",
    "            return r\n",
    "        except Exception as e:\n",
    "            continue\n",
    "\n",
    "    raise e\n",
    "    \n",
    "def extract_key_table_soups(account_url):\n",
    "    r = retry_request(account_url)\n",
    "    soup = bs(r.text)\n",
    "\n",
    "    operator_master_table = soup.find('table', attrs={'summary': 'Master account details'})\n",
    "    operator_child_table, compliance_table = soup.findAll('table', attrs={'summary': 'Child account details'})\n",
    "    \n",
    "    return operator_master_table, operator_child_table, compliance_table"
   ]
  },
  {
   "cell_type": "code",
   "execution_count": 299,
   "metadata": {},
   "outputs": [
    {
     "data": {
      "text/plain": [
       "(5, 5, 3)"
      ]
     },
     "execution_count": 299,
     "metadata": {},
     "output_type": "execute_result"
    }
   ],
   "source": [
    "operator_master_table, operator_child_table, compliance_table = extract_key_table_soups(account_url)\n",
    "\n",
    "len(operator_master_table), len(operator_child_table), len(compliance_table)"
   ]
  },
  {
   "cell_type": "markdown",
   "metadata": {},
   "source": [
    "<br>\n",
    "\n",
    "The first table we'll extract is the time-series compliance data"
   ]
  },
  {
   "cell_type": "code",
   "execution_count": 257,
   "metadata": {},
   "outputs": [],
   "source": [
    "def try_convert(value, default, type_):\n",
    "    try:\n",
    "        return type_(value)\n",
    "    except:\n",
    "        pass\n",
    "            \n",
    "    return default\n",
    "\n",
    "filter_for_year_indexes = lambda df: df.loc[pd.Series(df.index).apply(try_convert, args=(np.nan, float)).dropna().astype(int).astype(str).values]\n",
    "\n",
    "def extract_compliance_df(compliance_table):\n",
    "    df_compliance = (pd\n",
    "                     .read_html(str(compliance_table))[1].iloc[1:, :-2]\n",
    "                     .reset_index(drop=True)\n",
    "                     .T\n",
    "                     .set_index(0)\n",
    "                     .T\n",
    "                     .reset_index(drop=True)\n",
    "                     .drop(columns=['EU ETS Phase', 'Cumulative Surrendered Units**', 'Cumulative Verified Emissions***'])\n",
    "                     .set_index('Year')\n",
    "                     .pipe(filter_for_year_indexes)\n",
    "                     .rename(columns={\n",
    "                         'Allowances in Allocation': 'allocated_allowances',\n",
    "                         'Verified Emissions': 'verified_emissions',\n",
    "                         'Units Surrendered': 'units_surrendered',\n",
    "                         'Compliance Code': 'compliance_code'\n",
    "                     })\n",
    "                    )\n",
    "\n",
    "    return df_compliance"
   ]
  },
  {
   "cell_type": "code",
   "execution_count": 258,
   "metadata": {},
   "outputs": [
    {
     "data": {
      "text/html": [
       "<div>\n",
       "<style scoped>\n",
       "    .dataframe tbody tr th:only-of-type {\n",
       "        vertical-align: middle;\n",
       "    }\n",
       "\n",
       "    .dataframe tbody tr th {\n",
       "        vertical-align: top;\n",
       "    }\n",
       "\n",
       "    .dataframe thead th {\n",
       "        text-align: right;\n",
       "    }\n",
       "</style>\n",
       "<table border=\"1\" class=\"dataframe\">\n",
       "  <thead>\n",
       "    <tr style=\"text-align: right;\">\n",
       "      <th></th>\n",
       "      <th>allocated_allowances</th>\n",
       "      <th>verified_emissions</th>\n",
       "      <th>units_surrendered</th>\n",
       "      <th>compliance_code</th>\n",
       "    </tr>\n",
       "    <tr>\n",
       "      <th>Year</th>\n",
       "      <th></th>\n",
       "      <th></th>\n",
       "      <th></th>\n",
       "      <th></th>\n",
       "    </tr>\n",
       "  </thead>\n",
       "  <tbody>\n",
       "    <tr>\n",
       "      <th>2005</th>\n",
       "      <td>8492</td>\n",
       "      <td>12104</td>\n",
       "      <td>12104</td>\n",
       "      <td>A</td>\n",
       "    </tr>\n",
       "    <tr>\n",
       "      <th>2006</th>\n",
       "      <td>8492</td>\n",
       "      <td>12256</td>\n",
       "      <td>12256</td>\n",
       "      <td>A</td>\n",
       "    </tr>\n",
       "    <tr>\n",
       "      <th>2007</th>\n",
       "      <td>8492</td>\n",
       "      <td>14976</td>\n",
       "      <td>14976</td>\n",
       "      <td>A</td>\n",
       "    </tr>\n",
       "    <tr>\n",
       "      <th>2008</th>\n",
       "      <td>14063</td>\n",
       "      <td>17523</td>\n",
       "      <td>17523</td>\n",
       "      <td>A*</td>\n",
       "    </tr>\n",
       "    <tr>\n",
       "      <th>2009</th>\n",
       "      <td>17155</td>\n",
       "      <td>16815</td>\n",
       "      <td>16815</td>\n",
       "      <td>A</td>\n",
       "    </tr>\n",
       "  </tbody>\n",
       "</table>\n",
       "</div>"
      ],
      "text/plain": [
       "0    allocated_allowances verified_emissions units_surrendered compliance_code\n",
       "Year                                                                          \n",
       "2005                 8492              12104             12104               A\n",
       "2006                 8492              12256             12256               A\n",
       "2007                 8492              14976             14976               A\n",
       "2008                14063              17523             17523              A*\n",
       "2009                17155              16815             16815               A"
      ]
     },
     "execution_count": 258,
     "metadata": {},
     "output_type": "execute_result"
    }
   ],
   "source": [
    "df_compliance = extract_compliance_df(compliance_table)\n",
    "\n",
    "df_compliance.head()"
   ]
  },
  {
   "cell_type": "markdown",
   "metadata": {},
   "source": [
    "<br>\n",
    "\n",
    "We'll quickly visualise the cumulative excess emissions for the account we've just retrieved.\n",
    "\n",
    "When the cumulative emissions are below 0 we can imagine the account as being in credit, whereas when its above 0 we can view it as being in debt."
   ]
  },
  {
   "cell_type": "code",
   "execution_count": 297,
   "metadata": {},
   "outputs": [
    {
     "data": {
      "image/png": "[encoded data removed]",
      "text/plain": [
       "<Figure size 900x600 with 1 Axes>"
      ]
     },
     "metadata": {
      "needs_background": "light"
     },
     "output_type": "display_data"
    }
   ],
   "source": [
    "df_plot = df_compliance[['allocated_allowances', 'verified_emissions']].astype(float).astype('Int64').dropna(how='all')\n",
    "df_plot.index = df_plot.index.astype(int)\n",
    "\n",
    "# Plotting\n",
    "fig, ax = plt.subplots(dpi=150)\n",
    "\n",
    "(df_plot['verified_emissions']-df_plot['allocated_allowances']).cumsum().plot(ax=ax)\n",
    "ax.plot([df_plot.index.min(), df_plot.index.max()], [0, 0], 'k--')\n",
    "\n",
    "ax.set_title(f'Account ID: {account_id}')\n",
    "ax.set_ylabel('Cumulative Excess Emissions')\n",
    "ax.set_xlabel('')\n",
    "ax.set_xlim(df_plot.index.min(), df_plot.index.max())\n",
    "hlp.hide_spines(ax)"
   ]
  },
  {
   "cell_type": "markdown",
   "metadata": {},
   "source": [
    "<br>\n",
    "\n",
    "We'll take a quick look at how well the tables can be parsed into dataframes using `pd.read_html` alone"
   ]
  },
  {
   "cell_type": "code",
   "execution_count": 390,
   "metadata": {},
   "outputs": [
    {
     "data": {
      "text/html": [
       "<div>\n",
       "<style scoped>\n",
       "    .dataframe tbody tr th:only-of-type {\n",
       "        vertical-align: middle;\n",
       "    }\n",
       "\n",
       "    .dataframe tbody tr th {\n",
       "        vertical-align: top;\n",
       "    }\n",
       "\n",
       "    .dataframe thead th {\n",
       "        text-align: right;\n",
       "    }\n",
       "</style>\n",
       "<table border=\"1\" class=\"dataframe\">\n",
       "  <thead>\n",
       "    <tr style=\"text-align: right;\">\n",
       "      <th></th>\n",
       "      <th>0</th>\n",
       "      <th>1</th>\n",
       "      <th>2</th>\n",
       "      <th>3</th>\n",
       "      <th>4</th>\n",
       "      <th>5</th>\n",
       "      <th>6</th>\n",
       "    </tr>\n",
       "  </thead>\n",
       "  <tbody>\n",
       "    <tr>\n",
       "      <th>0</th>\n",
       "      <td>General Information</td>\n",
       "      <td>General Information</td>\n",
       "      <td>General Information</td>\n",
       "      <td>General Information</td>\n",
       "      <td>General Information</td>\n",
       "      <td>General Information</td>\n",
       "      <td>General Information</td>\n",
       "    </tr>\n",
       "    <tr>\n",
       "      <th>1</th>\n",
       "      <td>National Administrator</td>\n",
       "      <td>Account Type</td>\n",
       "      <td>Account Holder Name</td>\n",
       "      <td>Installation ID</td>\n",
       "      <td>Company Registration No</td>\n",
       "      <td>Account Status</td>\n",
       "      <td>NaN</td>\n",
       "    </tr>\n",
       "    <tr>\n",
       "      <th>2</th>\n",
       "      <td>Austria</td>\n",
       "      <td>100-Holding Account</td>\n",
       "      <td>Breitenfeld Edelstahl AG</td>\n",
       "      <td>2</td>\n",
       "      <td>FN 74471 t</td>\n",
       "      <td>open</td>\n",
       "      <td>NaN</td>\n",
       "    </tr>\n",
       "  </tbody>\n",
       "</table>\n",
       "</div>"
      ],
      "text/plain": [
       "                        0                    1                         2  \\\n",
       "0     General Information  General Information       General Information   \n",
       "1  National Administrator         Account Type       Account Holder Name   \n",
       "2                 Austria  100-Holding Account  Breitenfeld Edelstahl AG   \n",
       "\n",
       "                     3                        4                    5  \\\n",
       "0  General Information      General Information  General Information   \n",
       "1      Installation ID  Company Registration No       Account Status   \n",
       "2                    2               FN 74471 t                 open   \n",
       "\n",
       "                     6  \n",
       "0  General Information  \n",
       "1                  NaN  \n",
       "2                  NaN  "
      ]
     },
     "execution_count": 390,
     "metadata": {},
     "output_type": "execute_result"
    }
   ],
   "source": [
    "_ , df_master_general_info, _, df_contact_info = pd.read_html(str(operator_master_table))\n",
    "_ , df_child_general_info, df_address_info = pd.read_html(str(operator_child_table))\n",
    "\n",
    "df_master_general_info"
   ]
  },
  {
   "cell_type": "markdown",
   "metadata": {},
   "source": [
    "<br>\n",
    "\n",
    "We'll create some helper functions for extracting data from the different tables individually"
   ]
  },
  {
   "cell_type": "code",
   "execution_count": 442,
   "metadata": {},
   "outputs": [],
   "source": [
    "#exports\n",
    "extract_single_row_table_info = lambda df_info, num_excess_start_cols, last_end_col: df_info.iloc[num_excess_start_cols:, :last_end_col].reset_index(drop=True).T.set_index(0)[1].to_dict()\n",
    "\n",
    "extract_master_general_info = lambda df_master_general_info: extract_single_row_table_info(df_master_general_info, 1, 6)\n",
    "extract_child_general_info = lambda df_child_general_info: extract_single_row_table_info(df_child_general_info, 1, 10)\n",
    "extract_contact_info = lambda df_contact_info: extract_single_row_table_info(df_contact_info, 1, 11)\n",
    "extract_address_info = lambda df_address_info: extract_single_row_table_info(df_address_info, 1, 8)"
   ]
  },
  {
   "cell_type": "code",
   "execution_count": 393,
   "metadata": {},
   "outputs": [
    {
     "data": {
      "text/plain": [
       "{'National Administrator': 'Austria',\n",
       " 'Account Type': '100-Holding Account',\n",
       " 'Account Holder Name': 'Breitenfeld Edelstahl AG',\n",
       " 'Installation ID': '2',\n",
       " 'Company Registration No': 'FN 74471 t',\n",
       " 'Account Status': 'open'}"
      ]
     },
     "execution_count": 393,
     "metadata": {},
     "output_type": "execute_result"
    }
   ],
   "source": [
    "extract_aircraft_master_general_info(df_master_general_info)"
   ]
  },
  {
   "cell_type": "markdown",
   "metadata": {},
   "source": [
    "<br>\n",
    "\n",
    "We'll now repeat this for all four of the table types and then combine them in a single dictionary"
   ]
  },
  {
   "cell_type": "code",
   "execution_count": 509,
   "metadata": {},
   "outputs": [],
   "source": [
    "#exports\n",
    "def clean_dict_2nd_level_nulls(dict_):\n",
    "    dict_ = {\n",
    "        k1: {\n",
    "            k2: (\n",
    "                v2\n",
    "                if v2\n",
    "                not in [np.nan, 'nan', '-'] \n",
    "                else None\n",
    "               )\n",
    "            for k2, v2\n",
    "            in v1.items()\n",
    "        } \n",
    "        for k1, v1 \n",
    "        in dict_.items()\n",
    "    }\n",
    "    \n",
    "    return dict_\n",
    "    \n",
    "def extract_page_info(\n",
    "    account_id, \n",
    "    master_general_info_func=extract_master_general_info,\n",
    "    child_general_info_func=extract_child_general_info,\n",
    "):\n",
    "    # Retrieving table html\n",
    "    account_url = account_id_to_url(account_id)\n",
    "    operator_master_table, operator_child_table, compliance_table = extract_key_table_soups(account_url)\n",
    "\n",
    "    # Extracting raw dataframes\n",
    "    _ , df_master_general_info, _, df_contact_info = pd.read_html(str(operator_master_table))\n",
    "    _ , df_child_general_info, df_address_info = pd.read_html(str(operator_child_table))\n",
    "\n",
    "    # Parsing to clean dictionaries\n",
    "    master_general_info = master_general_info_func(df_master_general_info)\n",
    "    child_general_info = child_general_info_func(df_child_general_info)\n",
    "    contact_info = extract_contact_info(df_contact_info)\n",
    "    address_info = extract_address_info(df_address_info)\n",
    "\n",
    "    # Collating data\n",
    "    page_info = {\n",
    "        'master_general_info': master_general_info,\n",
    "        'child_general_info': child_general_info,\n",
    "        'contact_info': contact_info,\n",
    "        'address_info': address_info\n",
    "    }\n",
    "    \n",
    "    # Cleaning null values\n",
    "    page_info = clean_dict_2nd_level_nulls(page_info)\n",
    "    \n",
    "    # Extracting time-series data\n",
    "    df_ts = extract_compliance_df(compliance_table)\n",
    "    \n",
    "    return page_info, df_ts"
   ]
  },
  {
   "cell_type": "code",
   "execution_count": 510,
   "metadata": {},
   "outputs": [
    {
     "data": {
      "application/json": {
       "address_info": {
        "City": "Wals",
        "Country": "AT",
        "Latitude": null,
        "Longitude": null,
        "Main Activity": "20-Combustion of fuels",
        "Main Address Line": "Kaindlstrasse 2",
        "Postal Code": "5071",
        "Secondary Address Line": null
       },
       "child_general_info": {
        "E-PRTR identification": "20000.00484",
        "First Year of Emissions": "2005",
        "Installation ID": "69",
        "Installation Name": "Kaindl Holzindustrie Wals",
        "Last Year of Emissions": "0",
        "Name of Parent undertaking": null,
        "Name of Subsidiary undertaking": null,
        "Permit Entry Date": "2004-01-01",
        "Permit Expiry/Revocation Date": null,
        "Permit ID": "IHO192"
       },
       "contact_info": {
        "City": "Wals",
        "Country": "Austria",
        "E-Mail Address": null,
        "Legal Entity Identifier": null,
        "Main Address Line": "Kaindlstraße 2",
        "Name": "M. Kaindl KG",
        "Postal Code": "5071",
        "Secondary Address Line": null,
        "Telephone 1": null,
        "Telephone 2": null,
        "Type": "Account holder"
       },
       "master_general_info": {
        "Account Holder Name": "M. Kaindl KG",
        "Account Status": "open",
        "Account Type": "100-Holding Account",
        "Company Registration No": "FN 27690 x",
        "Installation ID": "69",
        "National Administrator": "Austria"
       }
      },
      "text/plain": [
       "<IPython.core.display.JSON object>"
      ]
     },
     "execution_count": 510,
     "metadata": {
      "application/json": {
       "expanded": false,
       "root": "root"
      }
     },
     "output_type": "execute_result"
    }
   ],
   "source": [
    "aircraft_page_info, df_ts = extract_page_info(account_id)\n",
    "\n",
    "JSON(aircraft_page_info)"
   ]
  },
  {
   "cell_type": "markdown",
   "metadata": {},
   "source": [
    "<br>\n",
    "\n",
    "We can use the same function to extract the information from an installation page as well.\n",
    "\n",
    "N.b. this is only possible because the tables are of the same size and format, if this changes in future the aircraft and installation pages will need separate extraction functions"
   ]
  },
  {
   "cell_type": "code",
   "execution_count": 512,
   "metadata": {},
   "outputs": [
    {
     "data": {
      "application/json": {
       "address_info": {
        "City": "Gmünd",
        "Country": "AT",
        "Latitude": null,
        "Longitude": null,
        "Main Activity": "20-Combustion of fuels",
        "Main Address Line": "Conrathstrasse 7",
        "Postal Code": "3953",
        "Secondary Address Line": null
       },
       "child_general_info": {
        "E-PRTR identification": null,
        "First Year of Emissions": "2005",
        "Installation ID": "47",
        "Installation Name": "AGRANA Gmünd",
        "Last Year of Emissions": "0",
        "Name of Parent undertaking": null,
        "Name of Subsidiary undertaking": null,
        "Permit Entry Date": "2005-01-26",
        "Permit Expiry/Revocation Date": null,
        "Permit ID": "ILE166"
       },
       "contact_info": {
        "City": "Wien",
        "Country": "Austria",
        "E-Mail Address": null,
        "Legal Entity Identifier": null,
        "Main Address Line": "Friedrich-Wilhelm-Raiffeisen-Platz 1",
        "Name": "AGRANA Stärke GmbH",
        "Postal Code": "1020",
        "Secondary Address Line": null,
        "Telephone 1": null,
        "Telephone 2": null,
        "Type": "Account holder"
       },
       "master_general_info": {
        "Account Holder Name": "AGRANA Stärke GmbH",
        "Account Status": "open",
        "Account Type": "100-Holding Account",
        "Company Registration No": "FN 252477 s",
        "Installation ID": "47",
        "National Administrator": "Austria"
       }
      },
      "text/plain": [
       "<IPython.core.display.JSON object>"
      ]
     },
     "execution_count": 512,
     "metadata": {
      "application/json": {
       "expanded": false,
       "root": "root"
      }
     },
     "output_type": "execute_result"
    }
   ],
   "source": [
    "account_id = df_search.loc[df_search['account_type']=='Operator Holding Account', 'account_id'].iloc[0]\n",
    "page_info, df_ts = extract_page_info(account_id)\n",
    "\n",
    "JSON(installation_page_info)"
   ]
  },
  {
   "cell_type": "markdown",
   "metadata": {},
   "source": [
    "<br>\n",
    "\n",
    "We'll quickly write some helper functions for collating this data in separate owner and unit dictionaries"
   ]
  },
  {
   "cell_type": "code",
   "execution_count": 504,
   "metadata": {},
   "outputs": [],
   "source": [
    "#exports\n",
    "def collate_owner_info(installation_page_info):\n",
    "    general_info = installation_page_info['master_general_info']\n",
    "    contact_info = installation_page_info['contact_info']\n",
    "\n",
    "    owner_info = copy.deepcopy(general_info)\n",
    "    owner_info.update(copy.deepcopy(contact_info))\n",
    "\n",
    "    assert len(general_info) + len(contact_info) - len(owner_info) == 0, 'There are duplicate entries in the dictionary keys'\n",
    "\n",
    "    return owner_info\n",
    "\n",
    "def collate_unit_info(installation_page_info):\n",
    "    general_info = installation_page_info['child_general_info']\n",
    "    address_info = installation_page_info['address_info']\n",
    "\n",
    "    installation_info = copy.deepcopy(general_info)\n",
    "    installation_info.update(copy.deepcopy(address_info))\n",
    "\n",
    "    assert len(general_info) + len(address_info) - len(installation_info) == 0, 'There are duplicate entries in the dictionary keys'\n",
    "\n",
    "    return installation_info"
   ]
  },
  {
   "cell_type": "code",
   "execution_count": 505,
   "metadata": {},
   "outputs": [
    {
     "data": {
      "text/plain": [
       "National Administrator                           Austria\n",
       "Account Type                         100-Holding Account\n",
       "Account Holder Name        Jetalliance Flugbetriebs GmbH\n",
       "Aircraft Operator ID                              200103\n",
       "Company Registration No                       FN 203001g\n",
       "Account Status                                    closed\n",
       "Type                                      Account holder\n",
       "Name                       Jetalliance Flugbetriebs GmbH\n",
       "Legal Entity Identifier                             None\n",
       "Main Address Line                            Flugplatz 1\n",
       "Secondary Address Line                              None\n",
       "Postal Code                                         2542\n",
       "City                                        Kottingbrunn\n",
       "Country                                          Austria\n",
       "Telephone 1                                         None\n",
       "Telephone 2                                         None\n",
       "E-Mail Address                                      None\n",
       "dtype: object"
      ]
     },
     "execution_count": 505,
     "metadata": {},
     "output_type": "execute_result"
    }
   ],
   "source": [
    "s_owner_info = pd.Series(collate_owner_info(page_info))\n",
    "s_installation_info = pd.Series(collate_unit_info(page_info))\n",
    "\n",
    "s_owner_info"
   ]
  },
  {
   "cell_type": "markdown",
   "metadata": {},
   "source": [
    "<br>\n",
    "\n",
    "We'll create a wrapper for downloading and saving the installation data"
   ]
  },
  {
   "cell_type": "code",
   "execution_count": 586,
   "metadata": {},
   "outputs": [],
   "source": [
    "#exports\n",
    "def construct_ets_unit_dfs(account_ids, owners_col_rename_map, units_col_rename_map):\n",
    "    df_owners = pd.DataFrame(index=account_ids, columns=owners_col_rename_map.keys())\n",
    "    df_units = pd.DataFrame(index=account_ids, columns=units_col_rename_map.keys())\n",
    "    ts_dfs = {}\n",
    "\n",
    "    for account_id in track(account_ids):\n",
    "        page_info, df_ts = extract_page_info(account_id)\n",
    "\n",
    "        df_owners.loc[account_id] = pd.Series(collate_owner_info(page_info))\n",
    "        df_units.loc[account_id] = pd.Series(collate_unit_info(page_info))\n",
    "        ts_dfs[account_id] = df_ts\n",
    "\n",
    "    df_owners = df_owners.rename(columns=owners_col_rename_map)\n",
    "    df_units = df_units.rename(columns=units_col_rename_map)\n",
    "    \n",
    "    return df_owners, df_units, ts_dfs\n",
    "\n",
    "def constuct_da_ts_from_ts_dfs(ts_dfs):\n",
    "    arr = np.stack([df.values for df in ts_dfs.values()])\n",
    "    \n",
    "    coords = {\n",
    "        'account_id': list(ts_dfs.keys()), \n",
    "        'year': list(ts_dfs.values())[0].index.values, \n",
    "        'variable': list(ts_dfs.values())[0].columns.values\n",
    "    }\n",
    "\n",
    "    da_ts = xr.DataArray(arr, coords=coords, dims=coords.keys())\n",
    "    \n",
    "    return da_ts\n",
    "\n",
    "def ts_dfs_to_separate_vars(ts_dfs):\n",
    "    da_ts = constuct_da_ts_from_ts_dfs(ts_dfs)\n",
    "    ts_var_dfs = {}\n",
    "\n",
    "    for variable in da_ts['variable'].values:\n",
    "        ts_var_dfs[variable] = (da_ts\n",
    "                                .sel(variable=variable)\n",
    "                                .to_dataframe(name=variable)\n",
    "                                [variable]\n",
    "                                .reset_index()\n",
    "                                .pivot('account_id', 'year', variable)\n",
    "                               )\n",
    "    \n",
    "    return ts_var_dfs\n",
    "\n",
    "def construct_installation_dfs(account_ids):\n",
    "    installation_owners_col_rename_map = {\n",
    "        'National Administrator': 'national_administrator', \n",
    "        'Account Type': 'account_type', \n",
    "        'Account Holder Name': 'account_holder_name',\n",
    "        'Installation ID': 'installation_id', \n",
    "        'Company Registration No': 'company_registration_number', \n",
    "        'Account Status': 'account_status', \n",
    "        'Type': 'type',\n",
    "        'Name': 'name', \n",
    "        'Legal Entity Identifier': 'legal_entity_identifier', \n",
    "        'Main Address Line': 'first_address_line',\n",
    "        'Secondary Address Line': 'second_address_line', \n",
    "        'Postal Code': 'postcode', \n",
    "        'City': 'city', \n",
    "        'Country': 'country',\n",
    "        'Telephone 1': 'telephone_1', \n",
    "        'Telephone 2': 'telephone_2', \n",
    "        'E-Mail Address': 'email'\n",
    "    }\n",
    "\n",
    "    installations_col_rename_map = {\n",
    "        'Installation ID': 'installation_id', \n",
    "        'Installation Name': 'installation_name', \n",
    "        'Permit ID': 'permit_id',\n",
    "        'Permit Entry Date': 'permit_entry_date', \n",
    "        'Permit Expiry/Revocation Date': 'permit_expiration_Date',\n",
    "        'Name of Subsidiary undertaking': 'subsidiary_undertaking_name', \n",
    "        'Name of Parent undertaking': 'parent_undertaking_name',\n",
    "        'E-PRTR identification': 'EPRTR_id', \n",
    "        'First Year of Emissions': 'initial_emissions_year',\n",
    "        'Last Year of Emissions': 'final_emissions_year',  \n",
    "        'Main Address Line': 'first_address_line',\n",
    "        'Secondary Address Line': 'second_address_line', \n",
    "        'Postal Code': 'postcode', \n",
    "        'City': 'city', \n",
    "        'Country': 'country', \n",
    "        'Latitude': 'lat', \n",
    "        'Longitude': 'lon',\n",
    "        'Main Activity': 'main_activity'\n",
    "    }\n",
    "    \n",
    "    df_owners, df_installations, ts_dfs = construct_ets_unit_dfs(account_ids, installation_owners_col_rename_map, installations_col_rename_map)\n",
    "    installation_dfs = ts_dfs_to_separate_vars(ts_dfs)\n",
    "    \n",
    "    installation_dfs.update({\n",
    "        'owners': df_owners,\n",
    "        'installations': df_installations\n",
    "    })\n",
    "    \n",
    "    return installation_dfs\n",
    "\n",
    "def get_installation_dfs(df_search, data_dir='data/installations', redownload=False):\n",
    "    df_search_installations = df_search.query(\"account_type=='Operator Holding Account'\")\n",
    "    account_ids = df_search_installations['account_id']\n",
    "\n",
    "    if redownload == True:\n",
    "        installation_dfs = construct_installation_dfs(account_ids)\n",
    "\n",
    "        for filename, df_installation in installation_dfs.items():\n",
    "            df_installation.to_csv(f'{data_dir}/{filename}.csv')\n",
    "\n",
    "    else:\n",
    "        installation_dfs = dict()\n",
    "        filenames = [f[:-4] for f in os.listdir(data_dir) if '.csv' in f]\n",
    "\n",
    "        for filename in filenames:\n",
    "            installation_dfs[filename] = pd.read_csv(f'{data_dir}/{filename}.csv')\n",
    "            \n",
    "    return installation_dfs"
   ]
  },
  {
   "cell_type": "code",
   "execution_count": 588,
   "metadata": {},
   "outputs": [
    {
     "data": {
      "text/plain": [
       "(16040, 18)"
      ]
     },
     "execution_count": 588,
     "metadata": {},
     "output_type": "execute_result"
    }
   ],
   "source": [
    "redownload_installations = True\n",
    "\n",
    "installation_dfs = get_installation_dfs(df_search, data_dir='../data/installations', redownload=redownload_installations)\n",
    "\n",
    "installation_dfs['owners'].shape"
   ]
  },
  {
   "cell_type": "markdown",
   "metadata": {},
   "source": [
    "<br>\n",
    "\n",
    "We can do the same for the aircraft data as well"
   ]
  },
  {
   "cell_type": "code",
   "execution_count": 592,
   "metadata": {},
   "outputs": [],
   "source": [
    "#exports\n",
    "def construct_aircraft_dfs(account_ids):\n",
    "    aircraft_owners_col_rename_map = {\n",
    "        'National Administrator': 'national_administrator', \n",
    "        'Account Type': 'account_type', \n",
    "        'Account Holder Name': 'account_holder_name',\n",
    "        'Aircraft Operator ID': 'aircraft_operator_id',\n",
    "        'Company Registration No': 'company_registration_number', \n",
    "        'Account Status': 'account_status', \n",
    "        'Type': 'type',\n",
    "        'Name': 'name', \n",
    "        'Legal Entity Identifier': 'legal_entity_identifier', \n",
    "        'Main Address Line': 'first_address_line',\n",
    "        'Secondary Address Line': 'second_address_line', \n",
    "        'Postal Code': 'postcode', \n",
    "        'City': 'city', \n",
    "        'Country': 'country',\n",
    "        'Telephone 1': 'telephone_1', \n",
    "        'Telephone 2': 'telephone_2', \n",
    "        'E-Mail Address': 'email'\n",
    "    }\n",
    "\n",
    "    aircraft_col_rename_map = {\n",
    "        'Aircraft Operator ID': 'aircraft_operator_id',\n",
    "        'Unique Code under Commission Regulation (EC) No 748/2009': '',\n",
    "        'Monitoring Plan ID': 'monitoring_plan_id',\n",
    "        'Monitoring plan — first year of applicability': 'monitoring_plan_start_date',\n",
    "        'Monitoring plan — year of expiry': 'monitoring_plan_expiration_Date',\n",
    "        'Name of Subsidiary undertaking': 'subsidiary_undertaking_name', \n",
    "        'Name of Parent undertaking': 'parent_undertaking_name',\n",
    "        'E-PRTR identification': 'EPRTR_id', \n",
    "        'Call Sign (ICAO designator)': 'call_sign',\n",
    "        'First Year of Emissions': 'initial_emissions_year',\n",
    "        'Main Address Line': 'first_address_line',\n",
    "        'Secondary Address Line': 'second_address_line', \n",
    "        'Postal Code': 'postcode', \n",
    "        'City': 'city', \n",
    "        'Country': 'country', \n",
    "        'Latitude': 'lat', \n",
    "        'Longitude': 'lon',\n",
    "        'Main Activity': 'main_activity'\n",
    "    }\n",
    "    \n",
    "    df_owners, df_aircraft, ts_dfs = construct_ets_unit_dfs(account_ids, aircraft_owners_col_rename_map, aircraft_col_rename_map)\n",
    "    aircraft_dfs = ts_dfs_to_separate_vars(ts_dfs)\n",
    "    \n",
    "    aircraft_dfs.update({\n",
    "        'owners': df_owners,\n",
    "        'aircraft': df_aircraft\n",
    "    })\n",
    "    \n",
    "    return aircraft_dfs\n",
    "\n",
    "def get_aircraft_dfs(df_search, data_dir='data/aircraft', redownload=False):\n",
    "    df_search_aircraft = df_search.query(\"account_type=='Aircraft Operator Account'\")\n",
    "    account_ids = df_search_aircraft['account_id']\n",
    "\n",
    "    redownload_aircraft = True\n",
    "\n",
    "    if redownload_aircraft == True:\n",
    "        aircraft_dfs = construct_aircraft_dfs(account_ids)\n",
    "\n",
    "        for filename, df_aircraft in aircraft_dfs.items():\n",
    "            df_aircraft.to_csv(f'{data_dir}/{filename}.csv')\n",
    "\n",
    "    else:\n",
    "        aircraft_dfs = dict()\n",
    "        filenames = [f[:-4] for f in os.listdir(data_dir) if '.csv' in f]\n",
    "\n",
    "        for filename in filenames:\n",
    "            aircraft_dfs[filename] = pd.read_csv(f'{data_dir}/{filename}.csv')\n",
    "            \n",
    "    return aircraft_dfs"
   ]
  },
  {
   "cell_type": "code",
   "execution_count": null,
   "metadata": {},
   "outputs": [
    {
     "data": {
      "text/html": [
       "<div><span class=\"Text-label\" style=\"display:inline-block; overflow:hidden; white-space:nowrap; text-overflow:ellipsis; min-width:0; max-width:15ex; vertical-align:middle; text-align:right\"></span>\n",
       "<progress style=\"width:60ex\" max=\"1580\" value=\"1569\" class=\"Progress-main\"/></progress>\n",
       "<span class=\"Progress-label\"><strong>99%</strong></span>\n",
       "<span class=\"Iteration-label\">1560/1580</span>\n",
       "<span class=\"Time-label\">[14:02<00:01, 0.54s/it]</span></div>"
      ],
      "text/plain": [
       "\u001b[A\u001b[2K\r",
       " [███████████████████████████████████████████████████████████#] 1569/1580 [14:02<00:01, 0.54s/it]"
      ]
     },
     "metadata": {},
     "output_type": "display_data"
    }
   ],
   "source": [
    "redownload_aircraft = False\n",
    "\n",
    "aircraft_dfs = get_aircraft_dfs(df_search, data_dir='../data/aircraft', redownload=redownload_aircraft)\n",
    "\n",
    "aircraft_dfs['owners'].shape"
   ]
  },
  {
   "cell_type": "markdown",
   "metadata": {},
   "source": [
    "<br>\n",
    "\n",
    "### Putting It All Together\n",
    "\n",
    "Finally we'll finish by creating a wrapper that downloads all of the data to the specified data directory"
   ]
  },
  {
   "cell_type": "code",
   "execution_count": null,
   "metadata": {},
   "outputs": [],
   "source": [
    "#exports\n",
    "def redownload_all_data(data_dir='data'):\n",
    "    set_dfs = dict()\n",
    "    set_dfs['account_search'] = get_search_df(data_dir=data_dir, redownload=True)\n",
    "    \n",
    "    installation_dfs = get_installation_dfs(df_search, data_dir=f'{data_dir}/installations', redownload=True)\n",
    "    aircraft_dfs = get_aircraft_dfs(df_search, data_dir=f'{data_dir}/aircraft', redownload=True)\n",
    "    \n",
    "    set_dfs.update(installation_dfs)\n",
    "    set_dfs.update(aircraft_dfs)\n",
    "    \n",
    "    return set_dfs"
   ]
  },
  {
   "cell_type": "code",
   "execution_count": null,
   "metadata": {},
   "outputs": [],
   "source": [
    "redownload_everything = False\n",
    "\n",
    "if redownload_everything == True:\n",
    "    set_dfs = redownload_all_data(data_dir='../data')"
   ]
  },
  {
   "cell_type": "code",
   "execution_count": null,
   "metadata": {},
   "outputs": [],
   "source": []
  },
  {
   "cell_type": "code",
   "execution_count": null,
   "metadata": {},
   "outputs": [],
   "source": [
    "# could make sense to use something like RDF for storing the installation and owner data\n",
    "# then the time-series data can be stored as separate csvs"
   ]
  }
 ],
 "metadata": {
  "kernelspec": {
   "display_name": "ETSWatch",
   "language": "python",
   "name": "etswatch"
  },
  "language_info": {
   "codemirror_mode": {
    "name": "ipython",
    "version": 3
   },
   "file_extension": ".py",
   "mimetype": "text/x-python",
   "name": "python",
   "nbconvert_exporter": "python",
   "pygments_lexer": "ipython3",
   "version": "3.7.8"
  }
 },
 "nbformat": 4,
 "nbformat_minor": 4
}

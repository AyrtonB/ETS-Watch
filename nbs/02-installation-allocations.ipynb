{
 "cells": [
  {
   "cell_type": "markdown",
   "metadata": {},
   "source": [
    "# Installation Allocations\n",
    "\n",
    "<br>\n",
    "\n",
    "To Do:\n",
    "\n",
    "* Work out how to handle edge cases where allocation is reported in the form `{number} ***{other_number}`, e.g. [here](https://ec.europa.eu/clima/ets/ohaDetails.do?accountID=91912&action=all&languageCode=en&returnURL=resultList.currentPageNumber%3D3%26installationName%3D%26accountHolder%3D%26search%3DSearch%26permitIdentifier%3D14-563-052075-2004%26form%3Doha%26searchType%3Doha%26mainActivityType%3D-1%26currentSortSettings%3D%26installationIdentifier%3D%26languageCode%3Den&registryCode=SE).\n",
    "\n",
    "<br>\n",
    "\n",
    "### Imports"
   ]
  },
  {
   "cell_type": "code",
   "execution_count": 345,
   "metadata": {},
   "outputs": [],
   "source": [
    "import pandas as pd\n",
    "import numpy as np\n",
    "\n",
    "import requests\n",
    "from bs4 import BeautifulSoup as bs\n",
    "import urllib.parse as urlparse\n",
    "from urllib.parse import parse_qs\n",
    "\n",
    "import re\n",
    "from warnings import warn\n",
    "\n",
    "from ipypb import track"
   ]
  },
  {
   "cell_type": "code",
   "execution_count": 100,
   "metadata": {},
   "outputs": [],
   "source": [
    "from IPython.display import JSON"
   ]
  },
  {
   "cell_type": "markdown",
   "metadata": {},
   "source": [
    "<br>\n",
    "\n",
    "### Retrieving Installation Table Links\n",
    "\n",
    "In this first section we'll set out to retrieve the urls for the installations databases across different ETS phases and each country.\n",
    "\n",
    "We'll start by retrieving the raw results for a single country"
   ]
  },
  {
   "cell_type": "code",
   "execution_count": 65,
   "metadata": {},
   "outputs": [],
   "source": [
    "#exports\n",
    "def get_country_raw_search(country_code='AT'):\n",
    "    url = 'https://ec.europa.eu/clima/ets/nap.do'\n",
    "\n",
    "    params = {\n",
    "        'languageCode': 'en',\n",
    "        'nap.registryCodeArray': country_code,\n",
    "        'periodCode': '-1',\n",
    "        'search': 'Search',\n",
    "        'currentSortSettings': ''\n",
    "    }\n",
    "\n",
    "    r = requests.get(url, params=params)\n",
    "\n",
    "    return r"
   ]
  },
  {
   "cell_type": "code",
   "execution_count": 393,
   "metadata": {},
   "outputs": [
    {
     "data": {
      "text/plain": [
       "<Response [200]>"
      ]
     },
     "execution_count": 393,
     "metadata": {},
     "output_type": "execute_result"
    }
   ],
   "source": [
    "r = get_country_raw_search('IS')\n",
    "\n",
    "r"
   ]
  },
  {
   "cell_type": "markdown",
   "metadata": {},
   "source": [
    "<br>\n",
    "\n",
    "From the response we can extract a table containing the relevant information on the installation databases"
   ]
  },
  {
   "cell_type": "code",
   "execution_count": 394,
   "metadata": {},
   "outputs": [],
   "source": [
    "#exports\n",
    "def extract_search_df(r):\n",
    "    soup = bs(r.text)\n",
    "    results_table = soup.find('table', attrs={'id': 'tblNapSearchResult'})\n",
    "\n",
    "    df_search = (pd\n",
    "                 .read_html(str(results_table))\n",
    "                 [0]\n",
    "                 .iloc[2:, :-3]\n",
    "                 .reset_index(drop=True)\n",
    "                 .T\n",
    "                 .set_index(0)\n",
    "                 .T\n",
    "                 .reset_index(drop=True)\n",
    "                 .rename(columns={\n",
    "                     'National Administrator': 'country',\n",
    "                     'EU ETS Phase': 'phase',\n",
    "                     'For issuance to not new entrants': 'non_new_entrants',\n",
    "                     'From NER': 'new_entrants_reserve'\n",
    "                 })\n",
    "                )\n",
    "\n",
    "    df_search['installations_link'] = ['https://ec.europa.eu/'+a['href'] for a in soup.findAll('a', text=re.compile('Installations linked to this Allocation Table'))]\n",
    "\n",
    "    return df_search"
   ]
  },
  {
   "cell_type": "code",
   "execution_count": 395,
   "metadata": {},
   "outputs": [
    {
     "data": {
      "text/html": [
       "<div>\n",
       "<style scoped>\n",
       "    .dataframe tbody tr th:only-of-type {\n",
       "        vertical-align: middle;\n",
       "    }\n",
       "\n",
       "    .dataframe tbody tr th {\n",
       "        vertical-align: top;\n",
       "    }\n",
       "\n",
       "    .dataframe thead th {\n",
       "        text-align: right;\n",
       "    }\n",
       "</style>\n",
       "<table border=\"1\" class=\"dataframe\">\n",
       "  <thead>\n",
       "    <tr style=\"text-align: right;\">\n",
       "      <th></th>\n",
       "      <th>country</th>\n",
       "      <th>phase</th>\n",
       "      <th>non_new_entrants</th>\n",
       "      <th>new_entrants_reserve</th>\n",
       "      <th>installations_link</th>\n",
       "    </tr>\n",
       "  </thead>\n",
       "  <tbody>\n",
       "    <tr>\n",
       "      <th>0</th>\n",
       "      <td>Iceland</td>\n",
       "      <td>Phase 3 (2013-2020)</td>\n",
       "      <td>11527090</td>\n",
       "      <td>172828</td>\n",
       "      <td>https://ec.europa.eu//clima/ets/napInstallatio...</td>\n",
       "    </tr>\n",
       "  </tbody>\n",
       "</table>\n",
       "</div>"
      ],
      "text/plain": [
       "0  country                phase non_new_entrants new_entrants_reserve  \\\n",
       "0  Iceland  Phase 3 (2013-2020)         11527090               172828   \n",
       "\n",
       "0                                 installations_link  \n",
       "0  https://ec.europa.eu//clima/ets/napInstallatio...  "
      ]
     },
     "execution_count": 395,
     "metadata": {},
     "output_type": "execute_result"
    }
   ],
   "source": [
    "df_search_country = extract_search_df(r)\n",
    "\n",
    "df_search_country"
   ]
  },
  {
   "cell_type": "markdown",
   "metadata": {},
   "source": [
    "<br>\n",
    "\n",
    "It's all good doing this for Austria but we want European-wide coverage. We can identify the countries we can query from the option box on the main search page."
   ]
  },
  {
   "cell_type": "code",
   "execution_count": 396,
   "metadata": {},
   "outputs": [],
   "source": [
    "#exports\n",
    "def get_country_codes():\n",
    "    r = get_country_raw_search()\n",
    "\n",
    "    soup = bs(r.text)\n",
    "\n",
    "    registry_code_to_country = {\n",
    "        option['value']: option.text\n",
    "        for option \n",
    "        in soup.find('select', attrs={'name': 'nap.registryCodeArray'}).findAll('option')\n",
    "    }\n",
    "    \n",
    "    return registry_code_to_country"
   ]
  },
  {
   "cell_type": "code",
   "execution_count": 113,
   "metadata": {},
   "outputs": [
    {
     "data": {
      "application/json": [
       {
        "AT": "Austria",
        "BE": "Belgium",
        "BG": "Bulgaria",
        "CY": "Cyprus",
        "CZ": "Czech Republic",
        "DE": "Germany",
        "DK": "Denmark",
        "EE": "Estonia",
        "ES": "Spain",
        "EU": "European Commission",
        "FI": "Finland",
        "FR": "France ",
        "GB": "United Kingdom",
        "GR": "Greece",
        "HR": "Croatia",
        "HU": "Hungary",
        "IE": "Ireland ",
        "IS": "Iceland",
        "IT": "Italy ",
        "LI": "Liechtenstein",
        "LT": "Lithuania",
        "LU": "Luxembourg ",
        "LV": "Latvia",
        "MT": "Malta",
        "NL": "Netherlands",
        "NO": "Norway",
        "PL": "Poland",
        "PT": "Portugal ",
        "RO": "Romania",
        "SE": "Sweden",
        "SI": "Slovenia",
        "SK": "Slovakia",
        "XI": "Northern Ireland"
       }
      ],
      "text/plain": [
       "<IPython.core.display.JSON object>"
      ]
     },
     "execution_count": 113,
     "metadata": {
      "application/json": {
       "expanded": false,
       "root": "root"
      }
     },
     "output_type": "execute_result"
    }
   ],
   "source": [
    "registry_code_to_country = get_country_codes()\n",
    "\n",
    "JSON([registry_code_to_country])"
   ]
  },
  {
   "cell_type": "markdown",
   "metadata": {},
   "source": [
    "<br>\n",
    "\n",
    "We can now use these to repeat our search for each country and concatenate the results"
   ]
  },
  {
   "cell_type": "code",
   "execution_count": 274,
   "metadata": {},
   "outputs": [],
   "source": [
    "#exports\n",
    "def get_installation_links_dataframe():\n",
    "    df_search = pd.DataFrame()\n",
    "\n",
    "    for registry_code in registry_code_to_country.keys():\n",
    "        r = get_country_raw_search(registry_code)\n",
    "        df_search_country = extract_search_df(r)\n",
    "        df_search = df_search.append(df_search_country)\n",
    "\n",
    "    df_search = df_search.reset_index(drop=True)\n",
    "    null_values_present = df_search.isnull().sum().sum() > 0\n",
    "\n",
    "    if null_values_present == True:\n",
    "        warn('There are null values present in the dataframe')\n",
    "        \n",
    "    return df_search"
   ]
  },
  {
   "cell_type": "code",
   "execution_count": 397,
   "metadata": {},
   "outputs": [
    {
     "data": {
      "text/html": [
       "<div>\n",
       "<style scoped>\n",
       "    .dataframe tbody tr th:only-of-type {\n",
       "        vertical-align: middle;\n",
       "    }\n",
       "\n",
       "    .dataframe tbody tr th {\n",
       "        vertical-align: top;\n",
       "    }\n",
       "\n",
       "    .dataframe thead th {\n",
       "        text-align: right;\n",
       "    }\n",
       "</style>\n",
       "<table border=\"1\" class=\"dataframe\">\n",
       "  <thead>\n",
       "    <tr style=\"text-align: right;\">\n",
       "      <th></th>\n",
       "      <th>country</th>\n",
       "      <th>phase</th>\n",
       "      <th>non_new_entrants</th>\n",
       "      <th>new_entrants_reserve</th>\n",
       "      <th>installations_link</th>\n",
       "    </tr>\n",
       "  </thead>\n",
       "  <tbody>\n",
       "    <tr>\n",
       "      <th>0</th>\n",
       "      <td>Austria</td>\n",
       "      <td>Phase 1 (2005-2007)</td>\n",
       "      <td>97791309</td>\n",
       "      <td>990150</td>\n",
       "      <td>https://ec.europa.eu//clima/ets/napInstallatio...</td>\n",
       "    </tr>\n",
       "    <tr>\n",
       "      <th>1</th>\n",
       "      <td>Austria</td>\n",
       "      <td>Phase 2 (2008-2012)</td>\n",
       "      <td>160218569</td>\n",
       "      <td>2000000</td>\n",
       "      <td>https://ec.europa.eu//clima/ets/napInstallatio...</td>\n",
       "    </tr>\n",
       "    <tr>\n",
       "      <th>2</th>\n",
       "      <td>Austria</td>\n",
       "      <td>Phase 3 (2013-2020)</td>\n",
       "      <td>160295499</td>\n",
       "      <td>1893669</td>\n",
       "      <td>https://ec.europa.eu//clima/ets/napInstallatio...</td>\n",
       "    </tr>\n",
       "    <tr>\n",
       "      <th>3</th>\n",
       "      <td>Belgium</td>\n",
       "      <td>Phase 1 (2005-2007)</td>\n",
       "      <td>178690906</td>\n",
       "      <td>7653297</td>\n",
       "      <td>https://ec.europa.eu//clima/ets/napInstallatio...</td>\n",
       "    </tr>\n",
       "    <tr>\n",
       "      <th>4</th>\n",
       "      <td>Belgium</td>\n",
       "      <td>Phase 2 (2008-2012)</td>\n",
       "      <td>283317829</td>\n",
       "      <td>9153852</td>\n",
       "      <td>https://ec.europa.eu//clima/ets/napInstallatio...</td>\n",
       "    </tr>\n",
       "  </tbody>\n",
       "</table>\n",
       "</div>"
      ],
      "text/plain": [
       "0  country                phase non_new_entrants new_entrants_reserve  \\\n",
       "0  Austria  Phase 1 (2005-2007)         97791309               990150   \n",
       "1  Austria  Phase 2 (2008-2012)        160218569              2000000   \n",
       "2  Austria  Phase 3 (2013-2020)        160295499              1893669   \n",
       "3  Belgium  Phase 1 (2005-2007)        178690906              7653297   \n",
       "4  Belgium  Phase 2 (2008-2012)        283317829              9153852   \n",
       "\n",
       "0                                 installations_link  \n",
       "0  https://ec.europa.eu//clima/ets/napInstallatio...  \n",
       "1  https://ec.europa.eu//clima/ets/napInstallatio...  \n",
       "2  https://ec.europa.eu//clima/ets/napInstallatio...  \n",
       "3  https://ec.europa.eu//clima/ets/napInstallatio...  \n",
       "4  https://ec.europa.eu//clima/ets/napInstallatio...  "
      ]
     },
     "execution_count": 397,
     "metadata": {},
     "output_type": "execute_result"
    }
   ],
   "source": [
    "df_search = get_installation_links_dataframe()\n",
    "    \n",
    "df_search.head()"
   ]
  },
  {
   "cell_type": "markdown",
   "metadata": {},
   "source": [
    "<br>\n",
    "\n",
    "### Retrieving Installation Allocation Data\n",
    "\n",
    "In this section we'll start by separating the root url and the parameters from each of the installation links"
   ]
  },
  {
   "cell_type": "code",
   "execution_count": 175,
   "metadata": {},
   "outputs": [],
   "source": [
    "#exports\n",
    "def get_url_root_and_params(installations_link):\n",
    "    url_root = installations_link.split('?')[0]\n",
    "    parsed = urlparse.urlparse(installations_link)\n",
    "    params = {k: v[0] for k, v in parse_qs(parsed.query).items()}\n",
    "    \n",
    "    return url_root, params"
   ]
  },
  {
   "cell_type": "code",
   "execution_count": 413,
   "metadata": {},
   "outputs": [
    {
     "data": {
      "application/json": {
       "action": "napHistoryParams",
       "allowancesForOperators": "97791309",
       "allowancesForReserve": "990150",
       "commitmentPeriodCode": "0",
       "commitmentPeriodDesc": "Phase 1 (2005-2007)",
       "napId": "1000",
       "registryName": "Austria"
      },
      "text/plain": [
       "<IPython.core.display.JSON object>"
      ]
     },
     "execution_count": 413,
     "metadata": {
      "application/json": {
       "expanded": false,
       "root": "root"
      }
     },
     "output_type": "execute_result"
    }
   ],
   "source": [
    "installations_link = df_search.loc[0, 'installations_link']\n",
    "\n",
    "url_root, params = get_url_root_and_params(installations_link)\n",
    "\n",
    "JSON(params)"
   ]
  },
  {
   "cell_type": "markdown",
   "metadata": {},
   "source": [
    "<br>\n",
    "\n",
    "We also need to pass the page number to the parameters, to do this we need to first know how many pages there are"
   ]
  },
  {
   "cell_type": "code",
   "execution_count": null,
   "metadata": {},
   "outputs": [],
   "source": [
    "#exports\n",
    "def get_num_pages(root_url, params): \n",
    "    soup = bs(requests.get(root_url, params=params).text)\n",
    "    soup_pn = soup.find('input', attrs={'name': 'resultList.lastPageNumber'})\n",
    "    \n",
    "    if soup_pn is not None:\n",
    "        num_pages = int(soup_pn['value'])\n",
    "    else:\n",
    "        num_pages = 1\n",
    "        \n",
    "    return num_pages"
   ]
  },
  {
   "cell_type": "code",
   "execution_count": 415,
   "metadata": {},
   "outputs": [
    {
     "data": {
      "text/plain": [
       "11"
      ]
     },
     "execution_count": 415,
     "metadata": {},
     "output_type": "execute_result"
    }
   ],
   "source": [
    "num_pages = get_num_pages(root_url, params)\n",
    "\n",
    "num_pages"
   ]
  },
  {
   "cell_type": "markdown",
   "metadata": {},
   "source": [
    "<br>\n",
    "\n",
    "We're now ready to iterate over multiple pages and combine the results for a single ETS phase in a single country"
   ]
  },
  {
   "cell_type": "code",
   "execution_count": 434,
   "metadata": {},
   "outputs": [],
   "source": [
    "#exports\n",
    "def extract_installation_allocations_df(r):\n",
    "        soup = bs(r.text)\n",
    "        table = soup.find('table', attrs={'id': 'tblNapList'})\n",
    "\n",
    "        df_installation_allocations = (pd\n",
    "                                       .read_html(str(table))\n",
    "                                       [0]\n",
    "                                       .drop([0, 1])\n",
    "                                       .reset_index(drop=True)\n",
    "                                       .T\n",
    "                                       .set_index(0)\n",
    "                                       .T\n",
    "                                       .drop(columns=['Options'])\n",
    "                                      )\n",
    "        \n",
    "        return df_installation_allocations\n",
    "    \n",
    "def retry_request(root_url, params, n_retries=5, **kwargs):\n",
    "    for i in range(n_retries):\n",
    "        try:\n",
    "            r = requests.get(root_url, params=params, **kwargs)\n",
    "            return r\n",
    "        except Exception as e:\n",
    "            continue\n",
    "\n",
    "    raise e\n",
    "\n",
    "def get_installation_allocations_df(root_url, params, n_retries=5):\n",
    "    df_installation_allocations = pd.DataFrame()\n",
    "\n",
    "    num_pages = get_num_pages(root_url, params)\n",
    "    params['nextList'] = 'Next'\n",
    "\n",
    "    for page_num in range(num_pages):\n",
    "        params['resultList.currentPageNumber'] = page_num            \n",
    "        r = retry_request(root_url, params, n_retries=n_retries)\n",
    "        \n",
    "        df_installation_allocations_page = extract_installation_allocations_df(r)\n",
    "        df_installation_allocations = df_installation_allocations.append(df_installation_allocations_page)\n",
    "\n",
    "    df_installation_allocations = df_installation_allocations.reset_index(drop=True)\n",
    "    \n",
    "    return df_installation_allocations"
   ]
  },
  {
   "cell_type": "code",
   "execution_count": 435,
   "metadata": {},
   "outputs": [
    {
     "name": "stdout",
     "output_type": "stream",
     "text": [
      "DataFrame shape: (201, 11)\n"
     ]
    },
    {
     "data": {
      "text/html": [
       "<div>\n",
       "<style scoped>\n",
       "    .dataframe tbody tr th:only-of-type {\n",
       "        vertical-align: middle;\n",
       "    }\n",
       "\n",
       "    .dataframe tbody tr th {\n",
       "        vertical-align: top;\n",
       "    }\n",
       "\n",
       "    .dataframe thead th {\n",
       "        text-align: right;\n",
       "    }\n",
       "</style>\n",
       "<table border=\"1\" class=\"dataframe\">\n",
       "  <thead>\n",
       "    <tr style=\"text-align: right;\">\n",
       "      <th></th>\n",
       "      <th>Installation ID</th>\n",
       "      <th>Installation Name</th>\n",
       "      <th>Address City</th>\n",
       "      <th>Account Holder Name</th>\n",
       "      <th>Account Status</th>\n",
       "      <th>Permit ID</th>\n",
       "      <th>Latest Update</th>\n",
       "      <th>2005</th>\n",
       "      <th>2006</th>\n",
       "      <th>2007</th>\n",
       "      <th>Status</th>\n",
       "    </tr>\n",
       "  </thead>\n",
       "  <tbody>\n",
       "    <tr>\n",
       "      <th>0</th>\n",
       "      <td>1</td>\n",
       "      <td>Baumit Baustoffe Bad Ischl</td>\n",
       "      <td>Bad Ischl</td>\n",
       "      <td>Calmit GmbH</td>\n",
       "      <td>open</td>\n",
       "      <td>IKA119</td>\n",
       "      <td>2009-05-08 09:13:58</td>\n",
       "      <td>44894</td>\n",
       "      <td>44894</td>\n",
       "      <td>44894</td>\n",
       "      <td>Active</td>\n",
       "    </tr>\n",
       "    <tr>\n",
       "      <th>1</th>\n",
       "      <td>2</td>\n",
       "      <td>Breitenfelder Edelstahl Mitterdorf</td>\n",
       "      <td>Mitterdorf</td>\n",
       "      <td>Breitenfeld Edelstahl AG</td>\n",
       "      <td>open</td>\n",
       "      <td>IES069</td>\n",
       "      <td>2009-05-08 09:13:58</td>\n",
       "      <td>8492</td>\n",
       "      <td>8492</td>\n",
       "      <td>8492</td>\n",
       "      <td>Active</td>\n",
       "    </tr>\n",
       "    <tr>\n",
       "      <th>2</th>\n",
       "      <td>3</td>\n",
       "      <td>Ziegelwerk Danreiter Ried im Innkreis</td>\n",
       "      <td>Ried</td>\n",
       "      <td>Ziegelwerk Danreiter GmbH &amp; Co KG</td>\n",
       "      <td>open</td>\n",
       "      <td>IZI155</td>\n",
       "      <td>2009-05-08 09:13:58</td>\n",
       "      <td>7397</td>\n",
       "      <td>7397</td>\n",
       "      <td>7397</td>\n",
       "      <td>Active</td>\n",
       "    </tr>\n",
       "  </tbody>\n",
       "</table>\n",
       "</div>"
      ],
      "text/plain": [
       "0 Installation ID                      Installation Name Address City  \\\n",
       "0               1             Baumit Baustoffe Bad Ischl    Bad Ischl   \n",
       "1               2     Breitenfelder Edelstahl Mitterdorf   Mitterdorf   \n",
       "2               3  Ziegelwerk Danreiter Ried im Innkreis         Ried   \n",
       "\n",
       "0                Account Holder Name Account Status Permit ID  \\\n",
       "0                        Calmit GmbH           open    IKA119   \n",
       "1           Breitenfeld Edelstahl AG           open    IES069   \n",
       "2  Ziegelwerk Danreiter GmbH & Co KG           open    IZI155   \n",
       "\n",
       "0        Latest Update   2005   2006   2007  Status  \n",
       "0  2009-05-08 09:13:58  44894  44894  44894  Active  \n",
       "1  2009-05-08 09:13:58   8492   8492   8492  Active  \n",
       "2  2009-05-08 09:13:58   7397   7397   7397  Active  "
      ]
     },
     "execution_count": 435,
     "metadata": {},
     "output_type": "execute_result"
    }
   ],
   "source": [
    "df_installation_allocations = get_installation_allocations_df(root_url, params)\n",
    "\n",
    "print(f'DataFrame shape: {df_installation_allocations.shape}')\n",
    "\n",
    "df_installation_allocations.head(3)"
   ]
  },
  {
   "cell_type": "markdown",
   "metadata": {},
   "source": [
    "<br>\n",
    "\n",
    "The next step is to repeat this for all countries and ETS phases, then combine the resulting dataframes"
   ]
  },
  {
   "cell_type": "code",
   "execution_count": 416,
   "metadata": {},
   "outputs": [],
   "source": [
    "#exports\n",
    "def get_all_installation_allocations_df(df_search):\n",
    "    col_renaming_map = {\n",
    "        'Installation ID': 'installation_id', \n",
    "        'Installation Name': 'installation_name', \n",
    "        'Address City': 'installation_city', \n",
    "        'Account Holder Name': 'account_holder', \n",
    "        'Account Status': 'account_status', \n",
    "        'Permit ID': 'permit_id', \n",
    "        'Status': 'status'\n",
    "    }\n",
    "\n",
    "    df_installation_allocations = pd.DataFrame()\n",
    "\n",
    "    # Retrieving raw data\n",
    "    for country in track(df_search['country'].unique()):\n",
    "        df_installation_allocations_country = pd.DataFrame()\n",
    "        country_installations_links = df_search.loc[df_search['country']==country, 'installations_link']\n",
    "\n",
    "        for installations_link in track(country_installations_links, label=country):\n",
    "            url_root, params = get_url_root_and_params(installations_link)\n",
    "            df_installation_allocations_country_phase = get_installation_allocations_df(root_url, params)\n",
    "\n",
    "            if df_installation_allocations_country.size > 0:\n",
    "                df_installation_allocations_country = pd.merge(df_installation_allocations_country, df_installation_allocations_country_phase, how='outer', on=list(col_renaming_map.keys()))\n",
    "            else:\n",
    "                df_installation_allocations_country = df_installation_allocations_country_phase\n",
    "\n",
    "        df_installation_allocations_country['country'] = country\n",
    "        df_installation_allocations = df_installation_allocations.append(df_installation_allocations_country)\n",
    "\n",
    "    # Collating update datetimes\n",
    "    update_cols = df_installation_allocations.columns[df_installation_allocations.columns.str.contains('Latest Update')]\n",
    "    df_installation_allocations['latest_update'] = df_installation_allocations[update_cols].fillna('').max(axis=1)\n",
    "    df_installation_allocations = df_installation_allocations.drop(columns=update_cols)\n",
    "\n",
    "    # Renaming columns\n",
    "    df_installation_allocations = (df_installation_allocations\n",
    "                                   .reset_index(drop=True)\n",
    "                                   .rename(columns=col_renaming_map)\n",
    "                                  )\n",
    "\n",
    "    # Sorting column order\n",
    "    non_year_cols = ['country'] + list(col_renaming_map.values()) + ['latest_update']\n",
    "    year_cols = sorted(list(set(df_installation_allocations.columns) - set(non_year_cols)))\n",
    "    df_installation_allocations = df_installation_allocations[non_year_cols+year_cols]\n",
    "\n",
    "    # Dropping header rows\n",
    "    idxs_to_drop = df_installation_allocations['permit_id'].str.contains('\\*').replace(False, np.nan).dropna().index\n",
    "    df_installation_allocations = df_installation_allocations.drop(idxs_to_drop)\n",
    "    \n",
    "    return df_installation_allocations"
   ]
  },
  {
   "cell_type": "code",
   "execution_count": 417,
   "metadata": {},
   "outputs": [
    {
     "data": {
      "text/html": [
       "<div><span class=\"Text-label\" style=\"display:inline-block; overflow:hidden; white-space:nowrap; text-overflow:ellipsis; min-width:0; max-width:15ex; vertical-align:middle; text-align:right\"></span>\n",
       "<progress style=\"width:60ex\" max=\"32\" value=\"32\" class=\"Progress-main\"/></progress>\n",
       "<span class=\"Progress-label\"><strong>100%</strong></span>\n",
       "<span class=\"Iteration-label\">32/32</span>\n",
       "<span class=\"Time-label\">[24:25<01:34, 45.78s/it]</span></div>"
      ],
      "text/plain": [
       "\u001b[A\u001b[A\u001b[2K\r",
       " [████████████████████████████████████████████████████████████] 32/32 [24:25<01:34, 45.78s/it]\u001b[B\u001b[B"
      ]
     },
     "metadata": {},
     "output_type": "display_data"
    },
    {
     "data": {
      "text/html": [
       "<div><span class=\"Text-label\" style=\"display:inline-block; overflow:hidden; white-space:nowrap; text-overflow:ellipsis; min-width:15ex; max-width:15ex; vertical-align:middle; text-align:right\">Austria</span>\n",
       "<progress style=\"width:45ex\" max=\"3\" value=\"3\" class=\"Progress-main\"/></progress>\n",
       "<span class=\"Progress-label\"><strong>100%</strong></span>\n",
       "<span class=\"Iteration-label\">3/3</span>\n",
       "<span class=\"Time-label\">[00:16<00:05, 5.35s/it]</span></div>"
      ],
      "text/plain": [
       "\u001b[A\u001b[2K\r",
       "        Austria [█████████████████████████████████████████████] 3/3 [00:16<00:05, 5.35s/it]"
      ]
     },
     "metadata": {},
     "output_type": "display_data"
    },
    {
     "data": {
      "text/html": [
       "<div><span class=\"Text-label\" style=\"display:inline-block; overflow:hidden; white-space:nowrap; text-overflow:ellipsis; min-width:15ex; max-width:15ex; vertical-align:middle; text-align:right\">Belgium</span>\n",
       "<progress style=\"width:45ex\" max=\"3\" value=\"3\" class=\"Progress-main\"/></progress>\n",
       "<span class=\"Progress-label\"><strong>100%</strong></span>\n",
       "<span class=\"Iteration-label\">3/3</span>\n",
       "<span class=\"Time-label\">[00:24<00:10, 7.95s/it]</span></div>"
      ],
      "text/plain": [
       "\u001b[A\u001b[2K\r",
       "        Belgium [█████████████████████████████████████████████] 3/3 [00:24<00:10, 7.95s/it]"
      ]
     },
     "metadata": {},
     "output_type": "display_data"
    },
    {
     "data": {
      "text/html": [
       "<div><span class=\"Text-label\" style=\"display:inline-block; overflow:hidden; white-space:nowrap; text-overflow:ellipsis; min-width:15ex; max-width:15ex; vertical-align:middle; text-align:right\">Bulgaria</span>\n",
       "<progress style=\"width:45ex\" max=\"2\" value=\"2\" class=\"Progress-main\"/></progress>\n",
       "<span class=\"Progress-label\"><strong>100%</strong></span>\n",
       "<span class=\"Iteration-label\">2/2</span>\n",
       "<span class=\"Time-label\">[00:07<00:03, 3.37s/it]</span></div>"
      ],
      "text/plain": [
       "\u001b[A\u001b[2K\r",
       "       Bulgaria [█████████████████████████████████████████████] 2/2 [00:07<00:03, 3.37s/it]"
      ]
     },
     "metadata": {},
     "output_type": "display_data"
    },
    {
     "data": {
      "text/html": [
       "<div><span class=\"Text-label\" style=\"display:inline-block; overflow:hidden; white-space:nowrap; text-overflow:ellipsis; min-width:15ex; max-width:15ex; vertical-align:middle; text-align:right\">Croatia</span>\n",
       "<progress style=\"width:45ex\" max=\"1\" value=\"1\" class=\"Progress-main\"/></progress>\n",
       "<span class=\"Progress-label\"><strong>100%</strong></span>\n",
       "<span class=\"Iteration-label\">1/1</span>\n",
       "<span class=\"Time-label\">[00:01<00:01, 1.26s/it]</span></div>"
      ],
      "text/plain": [
       "\u001b[A\u001b[2K\r",
       "        Croatia [█████████████████████████████████████████████] 1/1 [00:01<00:01, 1.26s/it]"
      ]
     },
     "metadata": {},
     "output_type": "display_data"
    },
    {
     "data": {
      "text/html": [
       "<div><span class=\"Text-label\" style=\"display:inline-block; overflow:hidden; white-space:nowrap; text-overflow:ellipsis; min-width:15ex; max-width:15ex; vertical-align:middle; text-align:right\">Cyprus</span>\n",
       "<progress style=\"width:45ex\" max=\"2\" value=\"2\" class=\"Progress-main\"/></progress>\n",
       "<span class=\"Progress-label\"><strong>100%</strong></span>\n",
       "<span class=\"Iteration-label\">2/2</span>\n",
       "<span class=\"Time-label\">[00:01<00:01, 0.64s/it]</span></div>"
      ],
      "text/plain": [
       "\u001b[A\u001b[2K\r",
       "         Cyprus [█████████████████████████████████████████████] 2/2 [00:01<00:01, 0.64s/it]"
      ]
     },
     "metadata": {},
     "output_type": "display_data"
    },
    {
     "data": {
      "text/html": [
       "<div><span class=\"Text-label\" style=\"display:inline-block; overflow:hidden; white-space:nowrap; text-overflow:ellipsis; min-width:15ex; max-width:15ex; vertical-align:middle; text-align:right\">Czech Republic</span>\n",
       "<progress style=\"width:45ex\" max=\"3\" value=\"3\" class=\"Progress-main\"/></progress>\n",
       "<span class=\"Progress-label\"><strong>100%</strong></span>\n",
       "<span class=\"Iteration-label\">3/3</span>\n",
       "<span class=\"Time-label\">[00:33<00:12, 11.09s/it]</span></div>"
      ],
      "text/plain": [
       "\u001b[A\u001b[2K\r",
       " Czech Republic [█████████████████████████████████████████████] 3/3 [00:33<00:12, 11.09s/it]"
      ]
     },
     "metadata": {},
     "output_type": "display_data"
    },
    {
     "data": {
      "text/html": [
       "<div><span class=\"Text-label\" style=\"display:inline-block; overflow:hidden; white-space:nowrap; text-overflow:ellipsis; min-width:15ex; max-width:15ex; vertical-align:middle; text-align:right\">Denmark</span>\n",
       "<progress style=\"width:45ex\" max=\"3\" value=\"3\" class=\"Progress-main\"/></progress>\n",
       "<span class=\"Progress-label\"><strong>100%</strong></span>\n",
       "<span class=\"Iteration-label\">3/3</span>\n",
       "<span class=\"Time-label\">[00:30<00:11, 10.07s/it]</span></div>"
      ],
      "text/plain": [
       "\u001b[A\u001b[2K\r",
       "        Denmark [█████████████████████████████████████████████] 3/3 [00:30<00:11, 10.07s/it]"
      ]
     },
     "metadata": {},
     "output_type": "display_data"
    },
    {
     "data": {
      "text/html": [
       "<div><span class=\"Text-label\" style=\"display:inline-block; overflow:hidden; white-space:nowrap; text-overflow:ellipsis; min-width:15ex; max-width:15ex; vertical-align:middle; text-align:right\">Estonia</span>\n",
       "<progress style=\"width:45ex\" max=\"3\" value=\"3\" class=\"Progress-main\"/></progress>\n",
       "<span class=\"Progress-label\"><strong>100%</strong></span>\n",
       "<span class=\"Iteration-label\">3/3</span>\n",
       "<span class=\"Time-label\">[00:04<00:01, 1.21s/it]</span></div>"
      ],
      "text/plain": [
       "\u001b[A\u001b[2K\r",
       "        Estonia [█████████████████████████████████████████████] 3/3 [00:04<00:01, 1.21s/it]"
      ]
     },
     "metadata": {},
     "output_type": "display_data"
    },
    {
     "data": {
      "text/html": [
       "<div><span class=\"Text-label\" style=\"display:inline-block; overflow:hidden; white-space:nowrap; text-overflow:ellipsis; min-width:15ex; max-width:15ex; vertical-align:middle; text-align:right\">Finland</span>\n",
       "<progress style=\"width:45ex\" max=\"3\" value=\"3\" class=\"Progress-main\"/></progress>\n",
       "<span class=\"Progress-label\"><strong>100%</strong></span>\n",
       "<span class=\"Iteration-label\">3/3</span>\n",
       "<span class=\"Time-label\">[01:04<00:19, 21.32s/it]</span></div>"
      ],
      "text/plain": [
       "\u001b[A\u001b[2K\r",
       "        Finland [█████████████████████████████████████████████] 3/3 [01:04<00:19, 21.32s/it]"
      ]
     },
     "metadata": {},
     "output_type": "display_data"
    },
    {
     "data": {
      "text/html": [
       "<div><span class=\"Text-label\" style=\"display:inline-block; overflow:hidden; white-space:nowrap; text-overflow:ellipsis; min-width:15ex; max-width:15ex; vertical-align:middle; text-align:right\">France</span>\n",
       "<progress style=\"width:45ex\" max=\"3\" value=\"3\" class=\"Progress-main\"/></progress>\n",
       "<span class=\"Progress-label\"><strong>100%</strong></span>\n",
       "<span class=\"Iteration-label\">3/3</span>\n",
       "<span class=\"Time-label\">[02:50<01:18, 56.52s/it]</span></div>"
      ],
      "text/plain": [
       "\u001b[A\u001b[2K\r",
       "         France [█████████████████████████████████████████████] 3/3 [02:50<01:18, 56.52s/it]"
      ]
     },
     "metadata": {},
     "output_type": "display_data"
    },
    {
     "data": {
      "text/html": [
       "<div><span class=\"Text-label\" style=\"display:inline-block; overflow:hidden; white-space:nowrap; text-overflow:ellipsis; min-width:15ex; max-width:15ex; vertical-align:middle; text-align:right\">Germany</span>\n",
       "<progress style=\"width:45ex\" max=\"3\" value=\"3\" class=\"Progress-main\"/></progress>\n",
       "<span class=\"Progress-label\"><strong>100%</strong></span>\n",
       "<span class=\"Iteration-label\">3/3</span>\n",
       "<span class=\"Time-label\">[06:22<03:02, 127.24s/it]</span></div>"
      ],
      "text/plain": [
       "\u001b[A\u001b[2K\r",
       "        Germany [█████████████████████████████████████████████] 3/3 [06:22<03:02, 127.24s/it]"
      ]
     },
     "metadata": {},
     "output_type": "display_data"
    },
    {
     "data": {
      "text/html": [
       "<div><span class=\"Text-label\" style=\"display:inline-block; overflow:hidden; white-space:nowrap; text-overflow:ellipsis; min-width:15ex; max-width:15ex; vertical-align:middle; text-align:right\">Greece</span>\n",
       "<progress style=\"width:45ex\" max=\"3\" value=\"3\" class=\"Progress-main\"/></progress>\n",
       "<span class=\"Progress-label\"><strong>100%</strong></span>\n",
       "<span class=\"Iteration-label\">3/3</span>\n",
       "<span class=\"Time-label\">[00:09<00:03, 3.03s/it]</span></div>"
      ],
      "text/plain": [
       "\u001b[A\u001b[2K\r",
       "         Greece [█████████████████████████████████████████████] 3/3 [00:09<00:03, 3.03s/it]"
      ]
     },
     "metadata": {},
     "output_type": "display_data"
    },
    {
     "data": {
      "text/html": [
       "<div><span class=\"Text-label\" style=\"display:inline-block; overflow:hidden; white-space:nowrap; text-overflow:ellipsis; min-width:15ex; max-width:15ex; vertical-align:middle; text-align:right\">Hungary</span>\n",
       "<progress style=\"width:45ex\" max=\"3\" value=\"3\" class=\"Progress-main\"/></progress>\n",
       "<span class=\"Progress-label\"><strong>100%</strong></span>\n",
       "<span class=\"Iteration-label\">3/3</span>\n",
       "<span class=\"Time-label\">[00:18<00:07, 5.88s/it]</span></div>"
      ],
      "text/plain": [
       "\u001b[A\u001b[2K\r",
       "        Hungary [█████████████████████████████████████████████] 3/3 [00:18<00:07, 5.88s/it]"
      ]
     },
     "metadata": {},
     "output_type": "display_data"
    },
    {
     "data": {
      "text/html": [
       "<div><span class=\"Text-label\" style=\"display:inline-block; overflow:hidden; white-space:nowrap; text-overflow:ellipsis; min-width:15ex; max-width:15ex; vertical-align:middle; text-align:right\">Iceland</span>\n",
       "<progress style=\"width:45ex\" max=\"1\" value=\"1\" class=\"Progress-main\"/></progress>\n",
       "<span class=\"Progress-label\"><strong>100%</strong></span>\n",
       "<span class=\"Iteration-label\">1/1</span>\n",
       "<span class=\"Time-label\">[00:01<00:01, 0.63s/it]</span></div>"
      ],
      "text/plain": [
       "\u001b[A\u001b[2K\r",
       "        Iceland [█████████████████████████████████████████████] 1/1 [00:01<00:01, 0.63s/it]"
      ]
     },
     "metadata": {},
     "output_type": "display_data"
    },
    {
     "data": {
      "text/html": [
       "<div><span class=\"Text-label\" style=\"display:inline-block; overflow:hidden; white-space:nowrap; text-overflow:ellipsis; min-width:15ex; max-width:15ex; vertical-align:middle; text-align:right\">Ireland</span>\n",
       "<progress style=\"width:45ex\" max=\"3\" value=\"3\" class=\"Progress-main\"/></progress>\n",
       "<span class=\"Progress-label\"><strong>100%</strong></span>\n",
       "<span class=\"Iteration-label\">3/3</span>\n",
       "<span class=\"Time-label\">[00:08<00:02, 2.58s/it]</span></div>"
      ],
      "text/plain": [
       "\u001b[A\u001b[2K\r",
       "        Ireland [█████████████████████████████████████████████] 3/3 [00:08<00:02, 2.58s/it]"
      ]
     },
     "metadata": {},
     "output_type": "display_data"
    },
    {
     "data": {
      "text/html": [
       "<div><span class=\"Text-label\" style=\"display:inline-block; overflow:hidden; white-space:nowrap; text-overflow:ellipsis; min-width:15ex; max-width:15ex; vertical-align:middle; text-align:right\">Italy</span>\n",
       "<progress style=\"width:45ex\" max=\"3\" value=\"3\" class=\"Progress-main\"/></progress>\n",
       "<span class=\"Progress-label\"><strong>100%</strong></span>\n",
       "<span class=\"Iteration-label\">3/3</span>\n",
       "<span class=\"Time-label\">[02:45<01:22, 54.94s/it]</span></div>"
      ],
      "text/plain": [
       "\u001b[A\u001b[2K\r",
       "          Italy [█████████████████████████████████████████████] 3/3 [02:45<01:22, 54.94s/it]"
      ]
     },
     "metadata": {},
     "output_type": "display_data"
    },
    {
     "data": {
      "text/html": [
       "<div><span class=\"Text-label\" style=\"display:inline-block; overflow:hidden; white-space:nowrap; text-overflow:ellipsis; min-width:15ex; max-width:15ex; vertical-align:middle; text-align:right\">Latvia</span>\n",
       "<progress style=\"width:45ex\" max=\"3\" value=\"3\" class=\"Progress-main\"/></progress>\n",
       "<span class=\"Progress-label\"><strong>100%</strong></span>\n",
       "<span class=\"Iteration-label\">3/3</span>\n",
       "<span class=\"Time-label\">[00:06<00:02, 1.88s/it]</span></div>"
      ],
      "text/plain": [
       "\u001b[A\u001b[2K\r",
       "         Latvia [█████████████████████████████████████████████] 3/3 [00:06<00:02, 1.88s/it]"
      ]
     },
     "metadata": {},
     "output_type": "display_data"
    },
    {
     "data": {
      "text/html": [
       "<div><span class=\"Text-label\" style=\"display:inline-block; overflow:hidden; white-space:nowrap; text-overflow:ellipsis; min-width:15ex; max-width:15ex; vertical-align:middle; text-align:right\">Liechtenstein</span>\n",
       "<progress style=\"width:45ex\" max=\"2\" value=\"2\" class=\"Progress-main\"/></progress>\n",
       "<span class=\"Progress-label\"><strong>100%</strong></span>\n",
       "<span class=\"Iteration-label\">2/2</span>\n",
       "<span class=\"Time-label\">[00:01<00:00, 0.49s/it]</span></div>"
      ],
      "text/plain": [
       "\u001b[A\u001b[2K\r",
       "  Liechtenstein [█████████████████████████████████████████████] 2/2 [00:01<00:00, 0.49s/it]"
      ]
     },
     "metadata": {},
     "output_type": "display_data"
    },
    {
     "data": {
      "text/html": [
       "<div><span class=\"Text-label\" style=\"display:inline-block; overflow:hidden; white-space:nowrap; text-overflow:ellipsis; min-width:15ex; max-width:15ex; vertical-align:middle; text-align:right\">Lithuania</span>\n",
       "<progress style=\"width:45ex\" max=\"3\" value=\"3\" class=\"Progress-main\"/></progress>\n",
       "<span class=\"Progress-label\"><strong>100%</strong></span>\n",
       "<span class=\"Iteration-label\">3/3</span>\n",
       "<span class=\"Time-label\">[00:07<00:03, 2.46s/it]</span></div>"
      ],
      "text/plain": [
       "\u001b[A\u001b[2K\r",
       "      Lithuania [█████████████████████████████████████████████] 3/3 [00:07<00:03, 2.46s/it]"
      ]
     },
     "metadata": {},
     "output_type": "display_data"
    },
    {
     "data": {
      "text/html": [
       "<div><span class=\"Text-label\" style=\"display:inline-block; overflow:hidden; white-space:nowrap; text-overflow:ellipsis; min-width:15ex; max-width:15ex; vertical-align:middle; text-align:right\">Luxembourg</span>\n",
       "<progress style=\"width:45ex\" max=\"3\" value=\"3\" class=\"Progress-main\"/></progress>\n",
       "<span class=\"Progress-label\"><strong>100%</strong></span>\n",
       "<span class=\"Iteration-label\">3/3</span>\n",
       "<span class=\"Time-label\">[00:02<00:01, 0.54s/it]</span></div>"
      ],
      "text/plain": [
       "\u001b[A\u001b[2K\r",
       "     Luxembourg [█████████████████████████████████████████████] 3/3 [00:02<00:01, 0.54s/it]"
      ]
     },
     "metadata": {},
     "output_type": "display_data"
    },
    {
     "data": {
      "text/html": [
       "<div><span class=\"Text-label\" style=\"display:inline-block; overflow:hidden; white-space:nowrap; text-overflow:ellipsis; min-width:15ex; max-width:15ex; vertical-align:middle; text-align:right\">Malta</span>\n",
       "<progress style=\"width:45ex\" max=\"1\" value=\"1\" class=\"Progress-main\"/></progress>\n",
       "<span class=\"Progress-label\"><strong>100%</strong></span>\n",
       "<span class=\"Iteration-label\">1/1</span>\n",
       "<span class=\"Time-label\">[00:00<00:00, 0.47s/it]</span></div>"
      ],
      "text/plain": [
       "\u001b[A\u001b[2K\r",
       "          Malta [█████████████████████████████████████████████] 1/1 [00:00<00:00, 0.47s/it]"
      ]
     },
     "metadata": {},
     "output_type": "display_data"
    },
    {
     "data": {
      "text/html": [
       "<div><span class=\"Text-label\" style=\"display:inline-block; overflow:hidden; white-space:nowrap; text-overflow:ellipsis; min-width:15ex; max-width:15ex; vertical-align:middle; text-align:right\">Netherlands</span>\n",
       "<progress style=\"width:45ex\" max=\"3\" value=\"3\" class=\"Progress-main\"/></progress>\n",
       "<span class=\"Progress-label\"><strong>100%</strong></span>\n",
       "<span class=\"Iteration-label\">3/3</span>\n",
       "<span class=\"Time-label\">[00:33<00:15, 10.85s/it]</span></div>"
      ],
      "text/plain": [
       "\u001b[A\u001b[2K\r",
       "    Netherlands [█████████████████████████████████████████████] 3/3 [00:33<00:15, 10.85s/it]"
      ]
     },
     "metadata": {},
     "output_type": "display_data"
    },
    {
     "data": {
      "text/html": [
       "<div><span class=\"Text-label\" style=\"display:inline-block; overflow:hidden; white-space:nowrap; text-overflow:ellipsis; min-width:15ex; max-width:15ex; vertical-align:middle; text-align:right\">Northern Ireland</span>\n",
       "<progress style=\"width:45ex\" max=\"3\" value=\"3\" class=\"Progress-main\"/></progress>\n",
       "<span class=\"Progress-label\"><strong>100%</strong></span>\n",
       "<span class=\"Iteration-label\">3/3</span>\n",
       "<span class=\"Time-label\">[00:01<00:00, 0.46s/it]</span></div>"
      ],
      "text/plain": [
       "\u001b[A\u001b[2K\r",
       "Northern Irelan [█████████████████████████████████████████████] 3/3 [00:01<00:00, 0.46s/it]"
      ]
     },
     "metadata": {},
     "output_type": "display_data"
    },
    {
     "data": {
      "text/html": [
       "<div><span class=\"Text-label\" style=\"display:inline-block; overflow:hidden; white-space:nowrap; text-overflow:ellipsis; min-width:15ex; max-width:15ex; vertical-align:middle; text-align:right\">Norway</span>\n",
       "<progress style=\"width:45ex\" max=\"2\" value=\"2\" class=\"Progress-main\"/></progress>\n",
       "<span class=\"Progress-label\"><strong>100%</strong></span>\n",
       "<span class=\"Iteration-label\">2/2</span>\n",
       "<span class=\"Time-label\">[00:06<00:03, 3.00s/it]</span></div>"
      ],
      "text/plain": [
       "\u001b[A\u001b[2K\r",
       "         Norway [█████████████████████████████████████████████] 2/2 [00:06<00:03, 3.00s/it]"
      ]
     },
     "metadata": {},
     "output_type": "display_data"
    },
    {
     "data": {
      "text/html": [
       "<div><span class=\"Text-label\" style=\"display:inline-block; overflow:hidden; white-space:nowrap; text-overflow:ellipsis; min-width:15ex; max-width:15ex; vertical-align:middle; text-align:right\">Poland</span>\n",
       "<progress style=\"width:45ex\" max=\"3\" value=\"3\" class=\"Progress-main\"/></progress>\n",
       "<span class=\"Progress-label\"><strong>100%</strong></span>\n",
       "<span class=\"Iteration-label\">3/3</span>\n",
       "<span class=\"Time-label\">[01:48<00:41, 36.07s/it]</span></div>"
      ],
      "text/plain": [
       "\u001b[A\u001b[2K\r",
       "         Poland [█████████████████████████████████████████████] 3/3 [01:48<00:41, 36.07s/it]"
      ]
     },
     "metadata": {},
     "output_type": "display_data"
    },
    {
     "data": {
      "text/html": [
       "<div><span class=\"Text-label\" style=\"display:inline-block; overflow:hidden; white-space:nowrap; text-overflow:ellipsis; min-width:15ex; max-width:15ex; vertical-align:middle; text-align:right\">Portugal</span>\n",
       "<progress style=\"width:45ex\" max=\"3\" value=\"3\" class=\"Progress-main\"/></progress>\n",
       "<span class=\"Progress-label\"><strong>100%</strong></span>\n",
       "<span class=\"Iteration-label\">3/3</span>\n",
       "<span class=\"Time-label\">[00:16<00:05, 5.37s/it]</span></div>"
      ],
      "text/plain": [
       "\u001b[A\u001b[2K\r",
       "       Portugal [█████████████████████████████████████████████] 3/3 [00:16<00:05, 5.37s/it]"
      ]
     },
     "metadata": {},
     "output_type": "display_data"
    },
    {
     "data": {
      "text/html": [
       "<div><span class=\"Text-label\" style=\"display:inline-block; overflow:hidden; white-space:nowrap; text-overflow:ellipsis; min-width:15ex; max-width:15ex; vertical-align:middle; text-align:right\">Romania</span>\n",
       "<progress style=\"width:45ex\" max=\"3\" value=\"3\" class=\"Progress-main\"/></progress>\n",
       "<span class=\"Progress-label\"><strong>100%</strong></span>\n",
       "<span class=\"Iteration-label\">3/3</span>\n",
       "<span class=\"Time-label\">[00:16<00:05, 5.45s/it]</span></div>"
      ],
      "text/plain": [
       "\u001b[A\u001b[2K\r",
       "        Romania [█████████████████████████████████████████████] 3/3 [00:16<00:05, 5.45s/it]"
      ]
     },
     "metadata": {},
     "output_type": "display_data"
    },
    {
     "data": {
      "text/html": [
       "<div><span class=\"Text-label\" style=\"display:inline-block; overflow:hidden; white-space:nowrap; text-overflow:ellipsis; min-width:15ex; max-width:15ex; vertical-align:middle; text-align:right\">Slovakia</span>\n",
       "<progress style=\"width:45ex\" max=\"3\" value=\"3\" class=\"Progress-main\"/></progress>\n",
       "<span class=\"Progress-label\"><strong>100%</strong></span>\n",
       "<span class=\"Iteration-label\">3/3</span>\n",
       "<span class=\"Time-label\">[00:11<00:04, 3.60s/it]</span></div>"
      ],
      "text/plain": [
       "\u001b[A\u001b[2K\r",
       "       Slovakia [█████████████████████████████████████████████] 3/3 [00:11<00:04, 3.60s/it]"
      ]
     },
     "metadata": {},
     "output_type": "display_data"
    },
    {
     "data": {
      "text/html": [
       "<div><span class=\"Text-label\" style=\"display:inline-block; overflow:hidden; white-space:nowrap; text-overflow:ellipsis; min-width:15ex; max-width:15ex; vertical-align:middle; text-align:right\">Slovenia</span>\n",
       "<progress style=\"width:45ex\" max=\"3\" value=\"3\" class=\"Progress-main\"/></progress>\n",
       "<span class=\"Progress-label\"><strong>100%</strong></span>\n",
       "<span class=\"Iteration-label\">3/3</span>\n",
       "<span class=\"Time-label\">[00:05<00:01, 1.74s/it]</span></div>"
      ],
      "text/plain": [
       "\u001b[A\u001b[2K\r",
       "       Slovenia [█████████████████████████████████████████████] 3/3 [00:05<00:01, 1.74s/it]"
      ]
     },
     "metadata": {},
     "output_type": "display_data"
    },
    {
     "data": {
      "text/html": [
       "<div><span class=\"Text-label\" style=\"display:inline-block; overflow:hidden; white-space:nowrap; text-overflow:ellipsis; min-width:15ex; max-width:15ex; vertical-align:middle; text-align:right\">Spain</span>\n",
       "<progress style=\"width:45ex\" max=\"3\" value=\"3\" class=\"Progress-main\"/></progress>\n",
       "<span class=\"Progress-label\"><strong>100%</strong></span>\n",
       "<span class=\"Iteration-label\">3/3</span>\n",
       "<span class=\"Time-label\">[02:11<00:48, 43.72s/it]</span></div>"
      ],
      "text/plain": [
       "\u001b[A\u001b[2K\r",
       "          Spain [█████████████████████████████████████████████] 3/3 [02:11<00:48, 43.72s/it]"
      ]
     },
     "metadata": {},
     "output_type": "display_data"
    },
    {
     "data": {
      "text/html": [
       "<div><span class=\"Text-label\" style=\"display:inline-block; overflow:hidden; white-space:nowrap; text-overflow:ellipsis; min-width:15ex; max-width:15ex; vertical-align:middle; text-align:right\">Sweden</span>\n",
       "<progress style=\"width:45ex\" max=\"3\" value=\"3\" class=\"Progress-main\"/></progress>\n",
       "<span class=\"Progress-label\"><strong>100%</strong></span>\n",
       "<span class=\"Iteration-label\">3/3</span>\n",
       "<span class=\"Time-label\">[01:35<00:30, 31.67s/it]</span></div>"
      ],
      "text/plain": [
       "\u001b[A\u001b[2K\r",
       "         Sweden [█████████████████████████████████████████████] 3/3 [01:35<00:30, 31.67s/it]"
      ]
     },
     "metadata": {},
     "output_type": "display_data"
    },
    {
     "data": {
      "text/html": [
       "<div><span class=\"Text-label\" style=\"display:inline-block; overflow:hidden; white-space:nowrap; text-overflow:ellipsis; min-width:15ex; max-width:15ex; vertical-align:middle; text-align:right\">United Kingdom</span>\n",
       "<progress style=\"width:45ex\" max=\"3\" value=\"3\" class=\"Progress-main\"/></progress>\n",
       "<span class=\"Progress-label\"><strong>100%</strong></span>\n",
       "<span class=\"Iteration-label\">3/3</span>\n",
       "<span class=\"Time-label\">[01:34<00:31, 31.37s/it]</span></div>"
      ],
      "text/plain": [
       "\u001b[A\u001b[2K\r",
       " United Kingdom [█████████████████████████████████████████████] 3/3 [01:34<00:31, 31.37s/it]"
      ]
     },
     "metadata": {},
     "output_type": "display_data"
    },
    {
     "data": {
      "text/html": [
       "<div>\n",
       "<style scoped>\n",
       "    .dataframe tbody tr th:only-of-type {\n",
       "        vertical-align: middle;\n",
       "    }\n",
       "\n",
       "    .dataframe tbody tr th {\n",
       "        vertical-align: top;\n",
       "    }\n",
       "\n",
       "    .dataframe thead th {\n",
       "        text-align: right;\n",
       "    }\n",
       "</style>\n",
       "<table border=\"1\" class=\"dataframe\">\n",
       "  <thead>\n",
       "    <tr style=\"text-align: right;\">\n",
       "      <th></th>\n",
       "      <th>country</th>\n",
       "      <th>installation_id</th>\n",
       "      <th>installation_name</th>\n",
       "      <th>installation_city</th>\n",
       "      <th>account_holder</th>\n",
       "      <th>account_status</th>\n",
       "      <th>permit_id</th>\n",
       "      <th>status</th>\n",
       "      <th>latest_update</th>\n",
       "      <th>2005</th>\n",
       "      <th>...</th>\n",
       "      <th>2011</th>\n",
       "      <th>2012</th>\n",
       "      <th>2013</th>\n",
       "      <th>2014</th>\n",
       "      <th>2015</th>\n",
       "      <th>2016</th>\n",
       "      <th>2017</th>\n",
       "      <th>2018</th>\n",
       "      <th>2019</th>\n",
       "      <th>2020</th>\n",
       "    </tr>\n",
       "  </thead>\n",
       "  <tbody>\n",
       "    <tr>\n",
       "      <th>0</th>\n",
       "      <td>Austria</td>\n",
       "      <td>1</td>\n",
       "      <td>Baumit Baustoffe Bad Ischl</td>\n",
       "      <td>Bad Ischl</td>\n",
       "      <td>Calmit GmbH</td>\n",
       "      <td>open</td>\n",
       "      <td>IKA119</td>\n",
       "      <td>Active</td>\n",
       "      <td>2013-12-19 15:47:52</td>\n",
       "      <td>44894</td>\n",
       "      <td>...</td>\n",
       "      <td>43171</td>\n",
       "      <td>43171</td>\n",
       "      <td>42159</td>\n",
       "      <td>41426</td>\n",
       "      <td>40685</td>\n",
       "      <td>39937</td>\n",
       "      <td>39180</td>\n",
       "      <td>38416</td>\n",
       "      <td>37643</td>\n",
       "      <td>36866</td>\n",
       "    </tr>\n",
       "    <tr>\n",
       "      <th>1</th>\n",
       "      <td>Austria</td>\n",
       "      <td>2</td>\n",
       "      <td>Breitenfelder Edelstahl Mitterdorf</td>\n",
       "      <td>Mitterdorf</td>\n",
       "      <td>Breitenfeld Edelstahl AG</td>\n",
       "      <td>open</td>\n",
       "      <td>IES069</td>\n",
       "      <td>Active</td>\n",
       "      <td>2013-12-19 15:48:16</td>\n",
       "      <td>8492</td>\n",
       "      <td>...</td>\n",
       "      <td>26429</td>\n",
       "      <td>26429</td>\n",
       "      <td>15118</td>\n",
       "      <td>14856</td>\n",
       "      <td>14590</td>\n",
       "      <td>14322</td>\n",
       "      <td>14051</td>\n",
       "      <td>13776</td>\n",
       "      <td>13499</td>\n",
       "      <td>13221</td>\n",
       "    </tr>\n",
       "    <tr>\n",
       "      <th>2</th>\n",
       "      <td>Austria</td>\n",
       "      <td>3</td>\n",
       "      <td>Ziegelwerk Danreiter Ried im Innkreis</td>\n",
       "      <td>Ried</td>\n",
       "      <td>Ziegelwerk Danreiter GmbH &amp; Co KG</td>\n",
       "      <td>open</td>\n",
       "      <td>IZI155</td>\n",
       "      <td>Active</td>\n",
       "      <td>2013-12-19 15:48:12</td>\n",
       "      <td>7397</td>\n",
       "      <td>...</td>\n",
       "      <td>5927</td>\n",
       "      <td>5927</td>\n",
       "      <td>3494</td>\n",
       "      <td>3434</td>\n",
       "      <td>3373</td>\n",
       "      <td>3311</td>\n",
       "      <td>3248</td>\n",
       "      <td>3185</td>\n",
       "      <td>3120</td>\n",
       "      <td>3056</td>\n",
       "    </tr>\n",
       "    <tr>\n",
       "      <th>3</th>\n",
       "      <td>Austria</td>\n",
       "      <td>4</td>\n",
       "      <td>Wienerberger Blindenmarkt</td>\n",
       "      <td>Blindenmarkt</td>\n",
       "      <td>Wienerberger Österreich GmbH</td>\n",
       "      <td>closed</td>\n",
       "      <td>IZI146-1</td>\n",
       "      <td>Account Closed</td>\n",
       "      <td>2009-05-08 09:13:58</td>\n",
       "      <td>8335</td>\n",
       "      <td>...</td>\n",
       "      <td>NaN</td>\n",
       "      <td>NaN</td>\n",
       "      <td>NaN</td>\n",
       "      <td>NaN</td>\n",
       "      <td>NaN</td>\n",
       "      <td>NaN</td>\n",
       "      <td>NaN</td>\n",
       "      <td>NaN</td>\n",
       "      <td>NaN</td>\n",
       "      <td>NaN</td>\n",
       "    </tr>\n",
       "    <tr>\n",
       "      <th>4</th>\n",
       "      <td>Austria</td>\n",
       "      <td>5</td>\n",
       "      <td>Isomax Dekorative Laminate Wiener Neudorf</td>\n",
       "      <td>Wiener Neudorf</td>\n",
       "      <td>FunderMax GmbH</td>\n",
       "      <td>open</td>\n",
       "      <td>ICH113</td>\n",
       "      <td>Active</td>\n",
       "      <td>2013-12-19 15:47:46</td>\n",
       "      <td>24003</td>\n",
       "      <td>...</td>\n",
       "      <td>27343</td>\n",
       "      <td>27343</td>\n",
       "      <td>26223</td>\n",
       "      <td>25697</td>\n",
       "      <td>25167</td>\n",
       "      <td>24636</td>\n",
       "      <td>24102</td>\n",
       "      <td>23566</td>\n",
       "      <td>23026</td>\n",
       "      <td>22488</td>\n",
       "    </tr>\n",
       "  </tbody>\n",
       "</table>\n",
       "<p>5 rows × 25 columns</p>\n",
       "</div>"
      ],
      "text/plain": [
       "0  country installation_id                          installation_name  \\\n",
       "0  Austria               1                 Baumit Baustoffe Bad Ischl   \n",
       "1  Austria               2         Breitenfelder Edelstahl Mitterdorf   \n",
       "2  Austria               3      Ziegelwerk Danreiter Ried im Innkreis   \n",
       "3  Austria               4                  Wienerberger Blindenmarkt   \n",
       "4  Austria               5  Isomax Dekorative Laminate Wiener Neudorf   \n",
       "\n",
       "0 installation_city                     account_holder account_status  \\\n",
       "0         Bad Ischl                        Calmit GmbH           open   \n",
       "1        Mitterdorf           Breitenfeld Edelstahl AG           open   \n",
       "2              Ried  Ziegelwerk Danreiter GmbH & Co KG           open   \n",
       "3      Blindenmarkt       Wienerberger Österreich GmbH         closed   \n",
       "4    Wiener Neudorf                     FunderMax GmbH           open   \n",
       "\n",
       "0 permit_id          status        latest_update   2005  ...   2011   2012  \\\n",
       "0    IKA119          Active  2013-12-19 15:47:52  44894  ...  43171  43171   \n",
       "1    IES069          Active  2013-12-19 15:48:16   8492  ...  26429  26429   \n",
       "2    IZI155          Active  2013-12-19 15:48:12   7397  ...   5927   5927   \n",
       "3  IZI146-1  Account Closed  2009-05-08 09:13:58   8335  ...    NaN    NaN   \n",
       "4    ICH113          Active  2013-12-19 15:47:46  24003  ...  27343  27343   \n",
       "\n",
       "0   2013   2014   2015   2016   2017   2018   2019   2020  \n",
       "0  42159  41426  40685  39937  39180  38416  37643  36866  \n",
       "1  15118  14856  14590  14322  14051  13776  13499  13221  \n",
       "2   3494   3434   3373   3311   3248   3185   3120   3056  \n",
       "3    NaN    NaN    NaN    NaN    NaN    NaN    NaN    NaN  \n",
       "4  26223  25697  25167  24636  24102  23566  23026  22488  \n",
       "\n",
       "[5 rows x 25 columns]"
      ]
     },
     "execution_count": 417,
     "metadata": {},
     "output_type": "execute_result"
    }
   ],
   "source": [
    "df_installation_allocations = get_all_installation_allocations_df(df_search)\n",
    "        \n",
    "df_installation_allocations.head()"
   ]
  },
  {
   "cell_type": "markdown",
   "metadata": {},
   "source": [
    "<br>\n",
    "\n",
    "A quick check reveals some issues with the dataset, for example there are several permit ids that have duplicate entries"
   ]
  },
  {
   "cell_type": "code",
   "execution_count": 430,
   "metadata": {},
   "outputs": [
    {
     "name": "stdout",
     "output_type": "stream",
     "text": [
      "There are 109 permit ids which have duplicate entries due to inconsistent values (e.g. for `installation_id`)\n",
      "\n"
     ]
    },
    {
     "data": {
      "text/html": [
       "<div>\n",
       "<style scoped>\n",
       "    .dataframe tbody tr th:only-of-type {\n",
       "        vertical-align: middle;\n",
       "    }\n",
       "\n",
       "    .dataframe tbody tr th {\n",
       "        vertical-align: top;\n",
       "    }\n",
       "\n",
       "    .dataframe thead th {\n",
       "        text-align: right;\n",
       "    }\n",
       "</style>\n",
       "<table border=\"1\" class=\"dataframe\">\n",
       "  <thead>\n",
       "    <tr style=\"text-align: right;\">\n",
       "      <th></th>\n",
       "      <th>country</th>\n",
       "      <th>installation_id</th>\n",
       "      <th>installation_name</th>\n",
       "      <th>installation_city</th>\n",
       "      <th>account_holder</th>\n",
       "      <th>account_status</th>\n",
       "      <th>permit_id</th>\n",
       "      <th>status</th>\n",
       "      <th>latest_update</th>\n",
       "      <th>2005</th>\n",
       "      <th>...</th>\n",
       "      <th>2011</th>\n",
       "      <th>2012</th>\n",
       "      <th>2013</th>\n",
       "      <th>2014</th>\n",
       "      <th>2015</th>\n",
       "      <th>2016</th>\n",
       "      <th>2017</th>\n",
       "      <th>2018</th>\n",
       "      <th>2019</th>\n",
       "      <th>2020</th>\n",
       "    </tr>\n",
       "  </thead>\n",
       "  <tbody>\n",
       "    <tr>\n",
       "      <th>4184</th>\n",
       "      <td>France</td>\n",
       "      <td>204319</td>\n",
       "      <td>ARKEMA FRANCE- Usine de Mont</td>\n",
       "      <td>Orthez</td>\n",
       "      <td>ARKEMA FRANCE</td>\n",
       "      <td>open</td>\n",
       "      <td>05202690</td>\n",
       "      <td>Active</td>\n",
       "      <td>2014-01-27 16:54:18</td>\n",
       "      <td>NaN</td>\n",
       "      <td>...</td>\n",
       "      <td>NaN</td>\n",
       "      <td>NaN</td>\n",
       "      <td>26157</td>\n",
       "      <td>25703</td>\n",
       "      <td>25242</td>\n",
       "      <td>24779</td>\n",
       "      <td>24308</td>\n",
       "      <td>23835</td>\n",
       "      <td>23355</td>\n",
       "      <td>22873</td>\n",
       "    </tr>\n",
       "    <tr>\n",
       "      <th>2937</th>\n",
       "      <td>France</td>\n",
       "      <td>102</td>\n",
       "      <td>ARKEMA FRANCE - Usine de Mont</td>\n",
       "      <td>MONT</td>\n",
       "      <td>ARKEMA FRANCE</td>\n",
       "      <td>closed</td>\n",
       "      <td>05202690</td>\n",
       "      <td>Account Closed</td>\n",
       "      <td>2012-11-29 14:18:52</td>\n",
       "      <td>32802</td>\n",
       "      <td>...</td>\n",
       "      <td>0</td>\n",
       "      <td>0</td>\n",
       "      <td>NaN</td>\n",
       "      <td>NaN</td>\n",
       "      <td>NaN</td>\n",
       "      <td>NaN</td>\n",
       "      <td>NaN</td>\n",
       "      <td>NaN</td>\n",
       "      <td>NaN</td>\n",
       "      <td>NaN</td>\n",
       "    </tr>\n",
       "    <tr>\n",
       "      <th>4165</th>\n",
       "      <td>France</td>\n",
       "      <td>204063</td>\n",
       "      <td>SOCIETE FROMAGERE DE SAINTE CECILE</td>\n",
       "      <td>SAINTE-CECILE</td>\n",
       "      <td>SOCIETE FROMAGERE DE SAINTE CECILE</td>\n",
       "      <td>open</td>\n",
       "      <td>05301510</td>\n",
       "      <td>Active</td>\n",
       "      <td>2014-01-27 16:57:52</td>\n",
       "      <td>NaN</td>\n",
       "      <td>...</td>\n",
       "      <td>NaN</td>\n",
       "      <td>NaN</td>\n",
       "      <td>3864</td>\n",
       "      <td>3458</td>\n",
       "      <td>3063</td>\n",
       "      <td>2680</td>\n",
       "      <td>2309</td>\n",
       "      <td>1949</td>\n",
       "      <td>1602</td>\n",
       "      <td>1267</td>\n",
       "    </tr>\n",
       "    <tr>\n",
       "      <th>3913</th>\n",
       "      <td>France</td>\n",
       "      <td>1121</td>\n",
       "      <td>SOCIETE FROMAGERE DE SAINTE CECILE</td>\n",
       "      <td>Sainte Cécile</td>\n",
       "      <td>BOUVIER</td>\n",
       "      <td>closed</td>\n",
       "      <td>05301510</td>\n",
       "      <td>Account Closed</td>\n",
       "      <td>2009-05-08 09:13:58</td>\n",
       "      <td>7790</td>\n",
       "      <td>...</td>\n",
       "      <td>NaN</td>\n",
       "      <td>NaN</td>\n",
       "      <td>NaN</td>\n",
       "      <td>NaN</td>\n",
       "      <td>NaN</td>\n",
       "      <td>NaN</td>\n",
       "      <td>NaN</td>\n",
       "      <td>NaN</td>\n",
       "      <td>NaN</td>\n",
       "      <td>NaN</td>\n",
       "    </tr>\n",
       "    <tr>\n",
       "      <th>4162</th>\n",
       "      <td>France</td>\n",
       "      <td>204060</td>\n",
       "      <td>SOCIETE FROMAGERE DE DOMFRONT</td>\n",
       "      <td>Domfront</td>\n",
       "      <td>SOCIETE FROMAGERE DE DOMFRONT</td>\n",
       "      <td>open</td>\n",
       "      <td>05302209</td>\n",
       "      <td>Active</td>\n",
       "      <td>2014-01-27 16:54:24</td>\n",
       "      <td>NaN</td>\n",
       "      <td>...</td>\n",
       "      <td>NaN</td>\n",
       "      <td>NaN</td>\n",
       "      <td>5780</td>\n",
       "      <td>5173</td>\n",
       "      <td>4582</td>\n",
       "      <td>4009</td>\n",
       "      <td>3454</td>\n",
       "      <td>2916</td>\n",
       "      <td>2396</td>\n",
       "      <td>1895</td>\n",
       "    </tr>\n",
       "    <tr>\n",
       "      <th>2961</th>\n",
       "      <td>France</td>\n",
       "      <td>127</td>\n",
       "      <td>SOCIETE FROMAGERE DE DOMFRONT</td>\n",
       "      <td>Domfront</td>\n",
       "      <td>SCOTTO</td>\n",
       "      <td>closed</td>\n",
       "      <td>05302209</td>\n",
       "      <td>Account Closed</td>\n",
       "      <td>2009-05-08 09:13:58</td>\n",
       "      <td>11326</td>\n",
       "      <td>...</td>\n",
       "      <td>NaN</td>\n",
       "      <td>NaN</td>\n",
       "      <td>NaN</td>\n",
       "      <td>NaN</td>\n",
       "      <td>NaN</td>\n",
       "      <td>NaN</td>\n",
       "      <td>NaN</td>\n",
       "      <td>NaN</td>\n",
       "      <td>NaN</td>\n",
       "      <td>NaN</td>\n",
       "    </tr>\n",
       "  </tbody>\n",
       "</table>\n",
       "<p>6 rows × 25 columns</p>\n",
       "</div>"
      ],
      "text/plain": [
       "0    country installation_id                   installation_name  \\\n",
       "4184  France          204319        ARKEMA FRANCE- Usine de Mont   \n",
       "2937  France             102       ARKEMA FRANCE - Usine de Mont   \n",
       "4165  France          204063  SOCIETE FROMAGERE DE SAINTE CECILE   \n",
       "3913  France            1121  SOCIETE FROMAGERE DE SAINTE CECILE   \n",
       "4162  France          204060       SOCIETE FROMAGERE DE DOMFRONT   \n",
       "2961  France             127       SOCIETE FROMAGERE DE DOMFRONT   \n",
       "\n",
       "0    installation_city                      account_holder account_status  \\\n",
       "4184            Orthez                       ARKEMA FRANCE           open   \n",
       "2937              MONT                       ARKEMA FRANCE         closed   \n",
       "4165     SAINTE-CECILE  SOCIETE FROMAGERE DE SAINTE CECILE           open   \n",
       "3913     Sainte Cécile                             BOUVIER         closed   \n",
       "4162          Domfront       SOCIETE FROMAGERE DE DOMFRONT           open   \n",
       "2961          Domfront                              SCOTTO         closed   \n",
       "\n",
       "0    permit_id          status        latest_update   2005  ... 2011 2012  \\\n",
       "4184  05202690          Active  2014-01-27 16:54:18    NaN  ...  NaN  NaN   \n",
       "2937  05202690  Account Closed  2012-11-29 14:18:52  32802  ...    0    0   \n",
       "4165  05301510          Active  2014-01-27 16:57:52    NaN  ...  NaN  NaN   \n",
       "3913  05301510  Account Closed  2009-05-08 09:13:58   7790  ...  NaN  NaN   \n",
       "4162  05302209          Active  2014-01-27 16:54:24    NaN  ...  NaN  NaN   \n",
       "2961  05302209  Account Closed  2009-05-08 09:13:58  11326  ...  NaN  NaN   \n",
       "\n",
       "0      2013   2014   2015   2016   2017   2018   2019   2020  \n",
       "4184  26157  25703  25242  24779  24308  23835  23355  22873  \n",
       "2937    NaN    NaN    NaN    NaN    NaN    NaN    NaN    NaN  \n",
       "4165   3864   3458   3063   2680   2309   1949   1602   1267  \n",
       "3913    NaN    NaN    NaN    NaN    NaN    NaN    NaN    NaN  \n",
       "4162   5780   5173   4582   4009   3454   2916   2396   1895  \n",
       "2961    NaN    NaN    NaN    NaN    NaN    NaN    NaN    NaN  \n",
       "\n",
       "[6 rows x 25 columns]"
      ]
     },
     "execution_count": 430,
     "metadata": {},
     "output_type": "execute_result"
    }
   ],
   "source": [
    "permit_ids_with_duplicate_idxs = (df_installation_allocations['permit_id'].value_counts()>1).replace(False, np.nan).dropna().index\n",
    "df_dupe_permit_ids = df_installation_allocations[df_installation_allocations['permit_id'].isin(permit_ids_with_duplicate_idxs)].sort_values('permit_id')\n",
    "\n",
    "print(f\"There are {df_dupe_permit_ids['permit_id'].unique().size} permit ids which have duplicate entries due to inconsistent values (e.g. for `installation_id`)\\n\")\n",
    "\n",
    "df_dupe_permit_ids.head(6)"
   ]
  },
  {
   "cell_type": "markdown",
   "metadata": {},
   "source": [
    "<br>\n",
    "\n",
    "Lastly we'll save the dataframe as a csv"
   ]
  },
  {
   "cell_type": "code",
   "execution_count": 422,
   "metadata": {},
   "outputs": [],
   "source": [
    "df_installation_allocations.to_csv('../data/installation_allocations.csv', index=False)"
   ]
  },
  {
   "cell_type": "code",
   "execution_count": null,
   "metadata": {},
   "outputs": [],
   "source": []
  }
 ],
 "metadata": {
  "kernelspec": {
   "display_name": "ETSWatch",
   "language": "python",
   "name": "etswatch"
  },
  "language_info": {
   "codemirror_mode": {
    "name": "ipython",
    "version": 3
   },
   "file_extension": ".py",
   "mimetype": "text/x-python",
   "name": "python",
   "nbconvert_exporter": "python",
   "pygments_lexer": "ipython3",
   "version": "3.7.8"
  }
 },
 "nbformat": 4,
 "nbformat_minor": 4
}

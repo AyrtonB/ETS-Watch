{
 "cells": [
  {
   "cell_type": "code",
   "execution_count": 2,
   "metadata": {},
   "outputs": [],
   "source": [
    "# default_exp cli"
   ]
  },
  {
   "cell_type": "markdown",
   "metadata": {},
   "source": [
    "# CLI"
   ]
  },
  {
   "cell_type": "markdown",
   "metadata": {},
   "source": [
    "This notebook includes helper functions and processes used in the development of the CLI for ETS-Watch\n",
    "\n",
    "<br>\n",
    "\n",
    "### Imports"
   ]
  },
  {
   "cell_type": "code",
   "execution_count": 2,
   "metadata": {},
   "outputs": [],
   "source": [
    "#exports\n",
    "from etswatch import prices\n",
    "from etswatch.eutl import accounts\n",
    "\n",
    "import os\n",
    "import typer"
   ]
  },
  {
   "cell_type": "code",
   "execution_count": 26,
   "metadata": {},
   "outputs": [],
   "source": [
    "import dotenv"
   ]
  },
  {
   "cell_type": "markdown",
   "metadata": {},
   "source": [
    "<br>\n",
    "\n",
    "### Loading Environment Variables"
   ]
  },
  {
   "cell_type": "code",
   "execution_count": 24,
   "metadata": {},
   "outputs": [],
   "source": [
    "use_dotenv = True\n",
    "\n",
    "if use_dotenv == True:\n",
    "    assert dotenv.load_dotenv(), 'environment variables could not be loaded'"
   ]
  },
  {
   "cell_type": "markdown",
   "metadata": {},
   "source": [
    "<br>\n",
    "\n",
    "### Initialising CLI "
   ]
  },
  {
   "cell_type": "code",
   "execution_count": 25,
   "metadata": {},
   "outputs": [],
   "source": [
    "#exports\n",
    "app = typer.Typer()"
   ]
  },
  {
   "cell_type": "markdown",
   "metadata": {},
   "source": [
    "<br>\n",
    "\n",
    "### Download Commands\n",
    "\n",
    "We'll start by creating a function for downloading the market prices data"
   ]
  },
  {
   "cell_type": "code",
   "execution_count": 5,
   "metadata": {},
   "outputs": [],
   "source": [
    "#exports\n",
    "@app.command()\n",
    "def download_mkt_prices(data_dir='data', print_dataset_head=True):\n",
    "    api_key = os.getenv('QUANDL_API_KEY')\n",
    "    df_ets = prices.get_ets_mkt_data(api_key)\n",
    "    \n",
    "    df_ets.to_csv(f'{data_dir}/market_prices.csv')\n",
    "    \n",
    "    if print_dataset_head == True:\n",
    "        print(f'Output Tail (n=3):\\n\\n{df_ets.tail(3)}')\n",
    "    \n",
    "    return"
   ]
  },
  {
   "cell_type": "code",
   "execution_count": 6,
   "metadata": {},
   "outputs": [
    {
     "name": "stderr",
     "output_type": "stream",
     "text": [
      "c:\\users\\ayrto\\desktop\\side projects\\ets-watch\\etswatch\\prices.py:35: FutureWarning: The default value of regex will change from True to False in a future version. In addition, single character regular expressions will*not* be treated as literal strings when regex=True.\n",
      "  df.columns = df.columns.str.lower().str.replace('.', '').str.replace(' ', '_')\n"
     ]
    },
    {
     "name": "stdout",
     "output_type": "stream",
     "text": [
      "Output Tail (n=3):\n",
      "\n",
      "             open   high    low  settle  change   wave  volume  \\\n",
      "datetime                                                         \n",
      "2021-04-14  43.87  43.88  43.47   43.73   -0.03  43.75    28.0   \n",
      "2021-04-15  43.84  44.32  43.84   44.08    0.35  44.22     5.0   \n",
      "2021-04-16  44.53  44.53  44.53   44.33    0.25  44.53     1.0   \n",
      "\n",
      "            prev_day_open_interest  efp_volume  efs_volume  block_volume  \\\n",
      "datetime                                                                   \n",
      "2021-04-14                  4865.0         NaN         NaN        2290.0   \n",
      "2021-04-15                  2881.0         NaN         NaN         598.0   \n",
      "2021-04-16                  2483.0         NaN         NaN           NaN   \n",
      "\n",
      "            close  \n",
      "datetime           \n",
      "2021-04-14  43.84  \n",
      "2021-04-15  44.19  \n",
      "2021-04-16  44.78  \n"
     ]
    }
   ],
   "source": [
    "download_mkt_prices(data_dir='../data')"
   ]
  },
  {
   "cell_type": "markdown",
   "metadata": {},
   "source": [
    "<br>\n",
    "\n",
    "Next we'll download the aircraft data"
   ]
  },
  {
   "cell_type": "code",
   "execution_count": 13,
   "metadata": {},
   "outputs": [],
   "source": [
    "#exports\n",
    "@app.command()\n",
    "def download_aircraft_accounts(data_dir='data', redownload=True, print_dataset_heads=True):\n",
    "    df_search = accounts.get_search_df(data_dir=f'{data_dir}/..', redownload=redownload)   \n",
    "    \n",
    "    aircraft_dfs = accounts.get_aircraft_dfs(\n",
    "        df_search, \n",
    "        data_dir=data_dir, \n",
    "        redownload=redownload\n",
    "    )\n",
    "    \n",
    "    if print_dataset_heads == True:\n",
    "        for dataset_name, df in aircraft_dfs.items():\n",
    "            print(f'{dataset_name} (head, n=3):\\n\\n{df.head(3)}\\n\\n\\n')\n",
    "    \n",
    "    return"
   ]
  },
  {
   "cell_type": "code",
   "execution_count": 14,
   "metadata": {},
   "outputs": [
    {
     "name": "stdout",
     "output_type": "stream",
     "text": [
      "aircraft (head, n=3):\n",
      "\n",
      "   account_id  aircraft_operator_id Unnamed: 2             monitoring_plan_id  \\\n",
      "0       90574                200103      27702  BMLFUW-UW.1.3.2/0354-V/4/2009   \n",
      "1       90727                200108        194  BMFLUW-UW.1.3.2/0084-V/4/2010   \n",
      "2       90728                200109      36057         UW.1.3.2/0085-V/4/2011   \n",
      "\n",
      "  monitoring_plan_start_date  monitoring_plan_expiration_Date  \\\n",
      "0                 2010-01-01                              NaN   \n",
      "1                 2010-01-01                              NaN   \n",
      "2                 2010-01-01                              NaN   \n",
      "\n",
      "   subsidiary_undertaking_name  parent_undertaking_name  EPRTR_id call_sign  \\\n",
      "0                          NaN                      NaN       NaN       JAG   \n",
      "1                          NaN                      NaN       NaN       NaN   \n",
      "2                          NaN                      NaN       NaN       NaN   \n",
      "\n",
      "   initial_emissions_year  first_address_line  second_address_line  postcode  \\\n",
      "0                    2013                 NaN                  NaN       NaN   \n",
      "1                    2012                 NaN                  NaN       NaN   \n",
      "2                    2012                 NaN                  NaN       NaN   \n",
      "\n",
      "   city country  lat  lon                    main_activity  \n",
      "0   NaN      AT  NaN  NaN  10-Aircraft operator activities  \n",
      "1   NaN      AT  NaN  NaN  10-Aircraft operator activities  \n",
      "2   NaN      AT  NaN  NaN  10-Aircraft operator activities  \n",
      "\n",
      "\n",
      "\n",
      "allocated_allowances (head, n=3):\n",
      "\n",
      "   account_id  2005  2006  2007  2008  2009  2010  2011       2012    2013  \\\n",
      "0     1020625   NaN   NaN   NaN   NaN   NaN   NaN   NaN        NaN     NaN   \n",
      "1      106049   NaN   NaN   NaN   NaN   NaN   NaN   NaN       75.0    41.0   \n",
      "2      106068   NaN   NaN   NaN   NaN   NaN   NaN   NaN  4586700.0  1297.0   \n",
      "\n",
      "   ...  2021  2022  2023 2024 2025 2026 2027  2028  2029  2030  \n",
      "0  ...   NaN   NaN   NaN  NaN  NaN  NaN  NaN   NaN   NaN   NaN  \n",
      "1  ...  36.0  35.0  35.0  NaN  NaN  NaN  NaN   NaN   NaN   NaN  \n",
      "2  ...   NaN   NaN   NaN  NaN  NaN  NaN  NaN   NaN   NaN   NaN  \n",
      "\n",
      "[3 rows x 27 columns]\n",
      "\n",
      "\n",
      "\n",
      "compliance_code (head, n=3):\n",
      "\n",
      "   account_id  2005  2006  2007  2008  2009  2010  2011 2012 2013  ... 2021  \\\n",
      "0     1020625   NaN   NaN   NaN   NaN   NaN   NaN   NaN  NaN  NaN  ...  NaN   \n",
      "1      106049   NaN   NaN   NaN   NaN   NaN   NaN   NaN   A*    A  ...  NaN   \n",
      "2      106068   NaN   NaN   NaN   NaN   NaN   NaN   NaN    A    A  ...  NaN   \n",
      "\n",
      "  2022 2023 2024 2025 2026  2027  2028  2029  2030  \n",
      "0  NaN  NaN  NaN  NaN  NaN   NaN   NaN   NaN   NaN  \n",
      "1  NaN  NaN  NaN  NaN  NaN   NaN   NaN   NaN   NaN  \n",
      "2  NaN  NaN  NaN  NaN  NaN   NaN   NaN   NaN   NaN  \n",
      "\n",
      "[3 rows x 27 columns]\n",
      "\n",
      "\n",
      "\n",
      "owners (head, n=3):\n",
      "\n",
      "   account_id national_administrator         account_type  \\\n",
      "0       90574                Austria  100-Holding Account   \n",
      "1       90727                Austria  100-Holding Account   \n",
      "2       90728                Austria  100-Holding Account   \n",
      "\n",
      "             account_holder_name  aircraft_operator_id  \\\n",
      "0  Jetalliance Flugbetriebs GmbH                200103   \n",
      "1                     Glock GmbH                200108   \n",
      "2            Glock Services GmbH                200109   \n",
      "\n",
      "  company_registration_number account_status            type  \\\n",
      "0                  FN 203001g         closed  Account holder   \n",
      "1                    FN64142b         closed  Account holder   \n",
      "2                   FN329154a         closed  Account holder   \n",
      "\n",
      "                            name legal_entity_identifier  \\\n",
      "0  Jetalliance Flugbetriebs GmbH                     NaN   \n",
      "1                     Glock GmbH                     NaN   \n",
      "2            Glock Services GmbH                     NaN   \n",
      "\n",
      "     first_address_line second_address_line postcode                     city  \\\n",
      "0           Flugplatz 1                 NaN     2542             Kottingbrunn   \n",
      "1        Loibstrasse 16                 NaN     9170                  Ferlach   \n",
      "2  Schneeweisshofweg 32                 NaN     9521  Treffen am Ossiachersee   \n",
      "\n",
      "   country  telephone_1  telephone_2  email  \n",
      "0  Austria          NaN          NaN    NaN  \n",
      "1  Austria          NaN          NaN    NaN  \n",
      "2  Austria          NaN          NaN    NaN  \n",
      "\n",
      "\n",
      "\n",
      "units_surrendered (head, n=3):\n",
      "\n",
      "   account_id  2005  2006  2007  2008  2009  2010  2011    2012    2013  ...  \\\n",
      "0     1020625   NaN   NaN   NaN   NaN   NaN   NaN   NaN     NaN     NaN  ...   \n",
      "1      106049   NaN   NaN   NaN   NaN   NaN   NaN   NaN  1945.0  2523.0  ...   \n",
      "2      106068   NaN   NaN   NaN   NaN   NaN   NaN   NaN  2130.0     NaN  ...   \n",
      "\n",
      "   2021  2022  2023  2024  2025  2026  2027  2028  2029  2030  \n",
      "0   NaN   NaN   NaN   NaN   NaN   NaN   NaN   NaN   NaN   NaN  \n",
      "1   NaN   NaN   NaN   NaN   NaN   NaN   NaN   NaN   NaN   NaN  \n",
      "2   NaN   NaN   NaN   NaN   NaN   NaN   NaN   NaN   NaN   NaN  \n",
      "\n",
      "[3 rows x 27 columns]\n",
      "\n",
      "\n",
      "\n",
      "verified_emissions (head, n=3):\n",
      "\n",
      "   account_id  2005  2006  2007  2008  2009  2010  2011  2012  2013  ...  \\\n",
      "0     1020625   NaN   NaN   NaN   NaN   NaN   NaN   NaN   NaN   NaN  ...   \n",
      "1      106049   NaN   NaN   NaN   NaN   NaN   NaN   NaN  1991  1949  ...   \n",
      "2      106068   NaN   NaN   NaN   NaN   NaN   NaN   NaN  2130  2507  ...   \n",
      "\n",
      "       2021 2022 2023 2024 2025 2026 2027 2028  2029  2030  \n",
      "0       NaN  NaN  NaN  NaN  NaN  NaN  NaN  NaN   NaN   NaN  \n",
      "1  Excluded  NaN  NaN  NaN  NaN  NaN  NaN  NaN   NaN   NaN  \n",
      "2       NaN  NaN  NaN  NaN  NaN  NaN  NaN  NaN   NaN   NaN  \n",
      "\n",
      "[3 rows x 27 columns]\n",
      "\n",
      "\n",
      "\n"
     ]
    }
   ],
   "source": [
    "download_aircraft_accounts(data_dir='../data/aircraft', redownload=False)"
   ]
  },
  {
   "cell_type": "markdown",
   "metadata": {},
   "source": [
    "<br>\n",
    "\n",
    "We'll then do the same for the installation accounts"
   ]
  },
  {
   "cell_type": "code",
   "execution_count": 15,
   "metadata": {},
   "outputs": [],
   "source": [
    "#exports\n",
    "@app.command()\n",
    "def download_installation_accounts(data_dir='data', redownload=True, print_dataset_heads=True):\n",
    "    df_search = accounts.get_search_df(data_dir=f'{data_dir}/..', redownload=redownload)   \n",
    "    \n",
    "    installation_dfs = accounts.get_installation_dfs(\n",
    "        df_search, \n",
    "        data_dir=data_dir, \n",
    "        redownload=redownload\n",
    "    )\n",
    "    \n",
    "    if print_dataset_heads == True:\n",
    "        for dataset_name, df in installation_dfs.items():\n",
    "            print(f'{dataset_name} (head, n=3):\\n\\n{df.head(3)}\\n\\n\\n')\n",
    "    \n",
    "    return"
   ]
  },
  {
   "cell_type": "code",
   "execution_count": 16,
   "metadata": {},
   "outputs": [
    {
     "name": "stdout",
     "output_type": "stream",
     "text": [
      "allocated_allowances (head, n=3):\n",
      "\n",
      "   account_id      2005      2006      2007      2008      2009      2010  \\\n",
      "0      100000  269940.0  269941.0  269941.0  153922.0  153922.0  153922.0   \n",
      "1      100001  146438.0  146438.0  146438.0  131200.0  131197.0  131197.0   \n",
      "2      100002      10.0      11.0       0.0       NaN       NaN       NaN   \n",
      "\n",
      "       2011      2012   2013  ... 2021 2022 2023 2024 2025 2026 2027  2028  \\\n",
      "0  153922.0  153922.0   3167  ...  NaN  NaN  NaN  NaN  NaN  NaN  NaN   NaN   \n",
      "1  131197.0  131197.0  16892  ...  NaN  NaN  NaN  NaN  NaN  NaN  NaN   NaN   \n",
      "2       NaN       NaN    NaN  ...  NaN  NaN  NaN  NaN  NaN  NaN  NaN   NaN   \n",
      "\n",
      "   2029  2030  \n",
      "0   NaN   NaN  \n",
      "1   NaN   NaN  \n",
      "2   NaN   NaN  \n",
      "\n",
      "[3 rows x 27 columns]\n",
      "\n",
      "\n",
      "\n",
      "compliance_code (head, n=3):\n",
      "\n",
      "   account_id 2005 2006 2007 2008 2009 2010 2011 2012 2013  ... 2021 2022  \\\n",
      "0      100000    A    A    A    A    A    A    A    A    A  ...  NaN  NaN   \n",
      "1      100001    A    A    A    A    A    A    A    A    A  ...  NaN  NaN   \n",
      "2      100002    A    A  NaN  NaN    C    C  NaN  NaN  NaN  ...  NaN  NaN   \n",
      "\n",
      "  2023 2024 2025 2026  2027  2028  2029  2030  \n",
      "0  NaN  NaN  NaN  NaN   NaN   NaN   NaN   NaN  \n",
      "1  NaN  NaN  NaN  NaN   NaN   NaN   NaN   NaN  \n",
      "2  NaN  NaN  NaN  NaN   NaN   NaN   NaN   NaN  \n",
      "\n",
      "[3 rows x 27 columns]\n",
      "\n",
      "\n",
      "\n",
      "installations (head, n=3):\n",
      "\n",
      "   account_id  installation_id installation_name permit_id permit_entry_date  \\\n",
      "0       93707               47      AGRANA Gmünd    ILE166        2005-01-26   \n",
      "1       93708               50    AGRANA Aschach    ILE165        2005-10-18   \n",
      "2       93709               51      AGRANA Tulln    ILE161        2005-07-01   \n",
      "\n",
      "  permit_expiration_Date subsidiary_undertaking_name parent_undertaking_name  \\\n",
      "0                    NaN                         NaN                     NaN   \n",
      "1                    NaN                         NaN                     NaN   \n",
      "2                    NaN                         NaN                     NaN   \n",
      "\n",
      "      EPRTR_id  initial_emissions_year  final_emissions_year  \\\n",
      "0          NaN                    2005                     0   \n",
      "1  20000.00442                    2005                     0   \n",
      "2  20000.00320                    2005                     0   \n",
      "\n",
      "            first_address_line second_address_line postcode     city country  \\\n",
      "0             Conrathstrasse 7                 NaN     3953    Gmünd      AT   \n",
      "1            Raiffeisenweg 2-6                 NaN     4082  Aschach      AT   \n",
      "2  Josef-Reither-Strasse 21-23                 NaN     3430    Tulln      AT   \n",
      "\n",
      "   lat  lon           main_activity  \n",
      "0  NaN  NaN  20-Combustion of fuels  \n",
      "1  NaN  NaN  20-Combustion of fuels  \n",
      "2  NaN  NaN  20-Combustion of fuels  \n",
      "\n",
      "\n",
      "\n",
      "owners (head, n=3):\n",
      "\n",
      "   account_id national_administrator         account_type account_holder_name  \\\n",
      "0       93707                Austria  100-Holding Account  AGRANA Stärke GmbH   \n",
      "1       93708                Austria  100-Holding Account  AGRANA Stärke GmbH   \n",
      "2       93709                Austria  100-Holding Account  AGRANA Zucker GmbH   \n",
      "\n",
      "   installation_id company_registration_number account_status            type  \\\n",
      "0               47                 FN 252477 s           open  Account holder   \n",
      "1               50                 FN 252477 s           open  Account holder   \n",
      "2               51                  FN 51929 t           open  Account holder   \n",
      "\n",
      "                 name legal_entity_identifier  \\\n",
      "0  AGRANA Stärke GmbH                     NaN   \n",
      "1  AGRANA Stärke GmbH                     NaN   \n",
      "2  AGRANA Zucker GmbH                     NaN   \n",
      "\n",
      "                     first_address_line second_address_line postcode  city  \\\n",
      "0  Friedrich-Wilhelm-Raiffeisen-Platz 1                 NaN     1020  Wien   \n",
      "1  Friedrich-Wilhelm-Raiffeisen-Platz 1                 NaN     1020  Wien   \n",
      "2  Friedrich-Wilhelm-Raiffeisen-Platz 1                 NaN     1020  Wien   \n",
      "\n",
      "   country  telephone_1 telephone_2  email  \n",
      "0  Austria          NaN         NaN    NaN  \n",
      "1  Austria          NaN         NaN    NaN  \n",
      "2  Austria          NaN         NaN    NaN  \n",
      "\n",
      "\n",
      "\n",
      "units_surrendered (head, n=3):\n",
      "\n",
      "   account_id      2005      2006      2007      2008      2009      2010  \\\n",
      "0      100000   87923.0  106745.0  117404.0  205430.0  105795.0   25900.0   \n",
      "1      100001  134139.0  138143.0  170415.0  143182.0  149405.0  142121.0   \n",
      "2      100002       NaN       NaN       NaN       NaN       NaN       NaN   \n",
      "\n",
      "       2011      2012      2013  ...  2021  2022  2023  2024  2025  2026  \\\n",
      "0  101784.0   21384.0    5671.0  ...   NaN   NaN   NaN   NaN   NaN   NaN   \n",
      "1  119263.0  102751.0  101881.0  ...   NaN   NaN   NaN   NaN   NaN   NaN   \n",
      "2       NaN       NaN       NaN  ...   NaN   NaN   NaN   NaN   NaN   NaN   \n",
      "\n",
      "   2027  2028  2029  2030  \n",
      "0   NaN   NaN   NaN   NaN  \n",
      "1   NaN   NaN   NaN   NaN  \n",
      "2   NaN   NaN   NaN   NaN  \n",
      "\n",
      "[3 rows x 27 columns]\n",
      "\n",
      "\n",
      "\n",
      "verified_emissions (head, n=3):\n",
      "\n",
      "   account_id    2005    2006    2007    2008          2009          2010  \\\n",
      "0      100000   87923  106745  117404  126296        105795        105034   \n",
      "1      100001  134139  138143  170415  143182        149405        142121   \n",
      "2      100002       0     NaN     NaN     NaN  Not Reported  Not Reported   \n",
      "\n",
      "     2011    2012    2013  ... 2021 2022 2023 2024 2025 2026 2027 2028  2029  \\\n",
      "0  101784   21384    5671  ...  NaN  NaN  NaN  NaN  NaN  NaN  NaN  NaN   NaN   \n",
      "1  119263  102751  101881  ...  NaN  NaN  NaN  NaN  NaN  NaN  NaN  NaN   NaN   \n",
      "2     NaN     NaN     NaN  ...  NaN  NaN  NaN  NaN  NaN  NaN  NaN  NaN   NaN   \n",
      "\n",
      "   2030  \n",
      "0   NaN  \n",
      "1   NaN  \n",
      "2   NaN  \n",
      "\n",
      "[3 rows x 27 columns]\n",
      "\n",
      "\n",
      "\n"
     ]
    }
   ],
   "source": [
    "download_installation_accounts(data_dir='../data/installations', redownload=False)"
   ]
  },
  {
   "cell_type": "markdown",
   "metadata": {},
   "source": [
    "<br>\n",
    "\n",
    "Lastly we'll create a function for downloading all of the accounts data in one step (including the accounts search data)"
   ]
  },
  {
   "cell_type": "code",
   "execution_count": 20,
   "metadata": {},
   "outputs": [],
   "source": [
    "#exports\n",
    "@app.command()\n",
    "def download_all_accounts_data(data_dir='data', search=True, installations=True, aircraft=True):\n",
    "    all_dfs = accounts.retrieve_all_data(data_dir=data_dir, redownload_search=search, redownload_installations=installations, redownload_aircraft=aircraft)   \n",
    "    \n",
    "    return"
   ]
  },
  {
   "cell_type": "code",
   "execution_count": 22,
   "metadata": {},
   "outputs": [],
   "source": [
    "download_all_accounts_data(data_dir='../data', search=False, installations=False, aircraft=False)"
   ]
  },
  {
   "cell_type": "markdown",
   "metadata": {},
   "source": [
    "<br>\n",
    "\n",
    "### Context Handling\n",
    "\n",
    "Finally we need to ensure the CLI app is available when the module is loaded.\n",
    "\n",
    "N.b. we've included the condition `'__file__' in globals()` to make sure this isn't when inside the notebook"
   ]
  },
  {
   "cell_type": "code",
   "execution_count": 18,
   "metadata": {},
   "outputs": [],
   "source": [
    "#exports\n",
    "if __name__ == '__main__' and '__file__' in globals():\n",
    "    app()"
   ]
  },
  {
   "cell_type": "code",
   "execution_count": null,
   "metadata": {},
   "outputs": [],
   "source": []
  },
  {
   "cell_type": "code",
   "execution_count": 1,
   "metadata": {},
   "outputs": [
    {
     "name": "stdout",
     "output_type": "stream",
     "text": [
      "Converted 04-cli.ipynb.\n"
     ]
    }
   ],
   "source": [
    "#hide\n",
    "from nbdev.export import notebook2script\n",
    "notebook2script('05-cli.ipynb')"
   ]
  }
 ],
 "metadata": {
  "kernelspec": {
   "display_name": "ETSWatch",
   "language": "python",
   "name": "etswatch"
  },
  "language_info": {
   "codemirror_mode": {
    "name": "ipython",
    "version": 3
   },
   "file_extension": ".py",
   "mimetype": "text/x-python",
   "name": "python",
   "nbconvert_exporter": "python",
   "pygments_lexer": "ipython3",
   "version": "3.7.10"
  }
 },
 "nbformat": 4,
 "nbformat_minor": 4
}
